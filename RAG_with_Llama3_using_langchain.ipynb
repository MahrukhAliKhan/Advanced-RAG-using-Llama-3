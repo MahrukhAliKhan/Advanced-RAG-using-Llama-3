{
 "cells": [
  {
   "cell_type": "markdown",
   "metadata": {},
   "source": [
    "# Building Advanced RAG with Llama-3 in Langchain Framework\n",
    "In this tutorial, we'll learn how to implement RAG using Llama-3 in Langchain framework \n",
    "\n",
    "## Step # 01: Installation\n",
    "- Check your GPU-memory usage through nvidia-smi. Clean up your memory to implement this project. \n",
    "- Install the necessary libraries required to run this project\n"
   ]
  },
  {
   "cell_type": "code",
   "execution_count": 1,
   "metadata": {},
   "outputs": [
    {
     "name": "stdout",
     "output_type": "stream",
     "text": [
      "Requirement already satisfied: langchain-groq==0.1.3 in ./venv/lib/python3.9/site-packages (0.1.3)\n",
      "Requirement already satisfied: groq<1,>=0.4.1 in ./venv/lib/python3.9/site-packages (from langchain-groq==0.1.3) (0.20.0)\n",
      "Requirement already satisfied: langchain-core<0.2.0,>=0.1.45 in ./venv/lib/python3.9/site-packages (from langchain-groq==0.1.3) (0.1.53)\n",
      "Requirement already satisfied: anyio<5,>=3.5.0 in ./venv/lib/python3.9/site-packages (from groq<1,>=0.4.1->langchain-groq==0.1.3) (4.9.0)\n",
      "Requirement already satisfied: distro<2,>=1.7.0 in ./venv/lib/python3.9/site-packages (from groq<1,>=0.4.1->langchain-groq==0.1.3) (1.9.0)\n",
      "Requirement already satisfied: httpx<1,>=0.23.0 in ./venv/lib/python3.9/site-packages (from groq<1,>=0.4.1->langchain-groq==0.1.3) (0.28.1)\n",
      "Requirement already satisfied: pydantic<3,>=1.9.0 in ./venv/lib/python3.9/site-packages (from groq<1,>=0.4.1->langchain-groq==0.1.3) (2.10.6)\n",
      "Requirement already satisfied: sniffio in ./venv/lib/python3.9/site-packages (from groq<1,>=0.4.1->langchain-groq==0.1.3) (1.3.1)\n",
      "Requirement already satisfied: typing-extensions<5,>=4.10 in ./venv/lib/python3.9/site-packages (from groq<1,>=0.4.1->langchain-groq==0.1.3) (4.12.2)\n",
      "Requirement already satisfied: PyYAML>=5.3 in ./venv/lib/python3.9/site-packages (from langchain-core<0.2.0,>=0.1.45->langchain-groq==0.1.3) (6.0.2)\n",
      "Requirement already satisfied: jsonpatch<2.0,>=1.33 in ./venv/lib/python3.9/site-packages (from langchain-core<0.2.0,>=0.1.45->langchain-groq==0.1.3) (1.33)\n",
      "Requirement already satisfied: langsmith<0.2.0,>=0.1.0 in ./venv/lib/python3.9/site-packages (from langchain-core<0.2.0,>=0.1.45->langchain-groq==0.1.3) (0.1.147)\n",
      "Requirement already satisfied: packaging<24.0,>=23.2 in ./venv/lib/python3.9/site-packages (from langchain-core<0.2.0,>=0.1.45->langchain-groq==0.1.3) (23.2)\n",
      "Requirement already satisfied: tenacity<9.0.0,>=8.1.0 in ./venv/lib/python3.9/site-packages (from langchain-core<0.2.0,>=0.1.45->langchain-groq==0.1.3) (8.5.0)\n",
      "Requirement already satisfied: exceptiongroup>=1.0.2 in ./venv/lib/python3.9/site-packages (from anyio<5,>=3.5.0->groq<1,>=0.4.1->langchain-groq==0.1.3) (1.2.2)\n",
      "Requirement already satisfied: idna>=2.8 in ./venv/lib/python3.9/site-packages (from anyio<5,>=3.5.0->groq<1,>=0.4.1->langchain-groq==0.1.3) (3.10)\n",
      "Requirement already satisfied: certifi in ./venv/lib/python3.9/site-packages (from httpx<1,>=0.23.0->groq<1,>=0.4.1->langchain-groq==0.1.3) (2025.1.31)\n",
      "Requirement already satisfied: httpcore==1.* in ./venv/lib/python3.9/site-packages (from httpx<1,>=0.23.0->groq<1,>=0.4.1->langchain-groq==0.1.3) (1.0.7)\n",
      "Requirement already satisfied: h11<0.15,>=0.13 in ./venv/lib/python3.9/site-packages (from httpcore==1.*->httpx<1,>=0.23.0->groq<1,>=0.4.1->langchain-groq==0.1.3) (0.14.0)\n",
      "Requirement already satisfied: jsonpointer>=1.9 in ./venv/lib/python3.9/site-packages (from jsonpatch<2.0,>=1.33->langchain-core<0.2.0,>=0.1.45->langchain-groq==0.1.3) (3.0.0)\n",
      "Requirement already satisfied: orjson<4.0.0,>=3.9.14 in ./venv/lib/python3.9/site-packages (from langsmith<0.2.0,>=0.1.0->langchain-core<0.2.0,>=0.1.45->langchain-groq==0.1.3) (3.10.15)\n",
      "Requirement already satisfied: requests<3,>=2 in ./venv/lib/python3.9/site-packages (from langsmith<0.2.0,>=0.1.0->langchain-core<0.2.0,>=0.1.45->langchain-groq==0.1.3) (2.32.3)\n",
      "Requirement already satisfied: requests-toolbelt<2.0.0,>=1.0.0 in ./venv/lib/python3.9/site-packages (from langsmith<0.2.0,>=0.1.0->langchain-core<0.2.0,>=0.1.45->langchain-groq==0.1.3) (1.0.0)\n",
      "Requirement already satisfied: annotated-types>=0.6.0 in ./venv/lib/python3.9/site-packages (from pydantic<3,>=1.9.0->groq<1,>=0.4.1->langchain-groq==0.1.3) (0.7.0)\n",
      "Requirement already satisfied: pydantic-core==2.27.2 in ./venv/lib/python3.9/site-packages (from pydantic<3,>=1.9.0->groq<1,>=0.4.1->langchain-groq==0.1.3) (2.27.2)\n",
      "Requirement already satisfied: charset-normalizer<4,>=2 in ./venv/lib/python3.9/site-packages (from requests<3,>=2->langsmith<0.2.0,>=0.1.0->langchain-core<0.2.0,>=0.1.45->langchain-groq==0.1.3) (3.4.1)\n",
      "Requirement already satisfied: urllib3<3,>=1.21.1 in ./venv/lib/python3.9/site-packages (from requests<3,>=2->langsmith<0.2.0,>=0.1.0->langchain-core<0.2.0,>=0.1.45->langchain-groq==0.1.3) (2.3.0)\n",
      "Note: you may need to restart the kernel to use updated packages.\n",
      "Requirement already satisfied: langchain==0.1.17 in ./venv/lib/python3.9/site-packages (0.1.17)\n",
      "Requirement already satisfied: PyYAML>=5.3 in ./venv/lib/python3.9/site-packages (from langchain==0.1.17) (6.0.2)\n",
      "Requirement already satisfied: SQLAlchemy<3,>=1.4 in ./venv/lib/python3.9/site-packages (from langchain==0.1.17) (2.0.39)\n",
      "Requirement already satisfied: aiohttp<4.0.0,>=3.8.3 in ./venv/lib/python3.9/site-packages (from langchain==0.1.17) (3.11.14)\n",
      "Requirement already satisfied: async-timeout<5.0.0,>=4.0.0 in ./venv/lib/python3.9/site-packages (from langchain==0.1.17) (4.0.3)\n",
      "Requirement already satisfied: dataclasses-json<0.7,>=0.5.7 in ./venv/lib/python3.9/site-packages (from langchain==0.1.17) (0.6.7)\n",
      "Requirement already satisfied: jsonpatch<2.0,>=1.33 in ./venv/lib/python3.9/site-packages (from langchain==0.1.17) (1.33)\n",
      "Requirement already satisfied: langchain-community<0.1,>=0.0.36 in ./venv/lib/python3.9/site-packages (from langchain==0.1.17) (0.0.38)\n",
      "Requirement already satisfied: langchain-core<0.2.0,>=0.1.48 in ./venv/lib/python3.9/site-packages (from langchain==0.1.17) (0.1.53)\n",
      "Requirement already satisfied: langchain-text-splitters<0.1,>=0.0.1 in ./venv/lib/python3.9/site-packages (from langchain==0.1.17) (0.0.2)\n",
      "Requirement already satisfied: langsmith<0.2.0,>=0.1.17 in ./venv/lib/python3.9/site-packages (from langchain==0.1.17) (0.1.147)\n",
      "Requirement already satisfied: numpy<2,>=1 in ./venv/lib/python3.9/site-packages (from langchain==0.1.17) (1.26.4)\n",
      "Requirement already satisfied: pydantic<3,>=1 in ./venv/lib/python3.9/site-packages (from langchain==0.1.17) (2.10.6)\n",
      "Requirement already satisfied: requests<3,>=2 in ./venv/lib/python3.9/site-packages (from langchain==0.1.17) (2.32.3)\n",
      "Requirement already satisfied: tenacity<9.0.0,>=8.1.0 in ./venv/lib/python3.9/site-packages (from langchain==0.1.17) (8.5.0)\n",
      "Requirement already satisfied: aiohappyeyeballs>=2.3.0 in ./venv/lib/python3.9/site-packages (from aiohttp<4.0.0,>=3.8.3->langchain==0.1.17) (2.6.1)\n",
      "Requirement already satisfied: aiosignal>=1.1.2 in ./venv/lib/python3.9/site-packages (from aiohttp<4.0.0,>=3.8.3->langchain==0.1.17) (1.3.2)\n",
      "Requirement already satisfied: attrs>=17.3.0 in ./venv/lib/python3.9/site-packages (from aiohttp<4.0.0,>=3.8.3->langchain==0.1.17) (25.3.0)\n",
      "Requirement already satisfied: frozenlist>=1.1.1 in ./venv/lib/python3.9/site-packages (from aiohttp<4.0.0,>=3.8.3->langchain==0.1.17) (1.5.0)\n",
      "Requirement already satisfied: multidict<7.0,>=4.5 in ./venv/lib/python3.9/site-packages (from aiohttp<4.0.0,>=3.8.3->langchain==0.1.17) (6.2.0)\n",
      "Requirement already satisfied: propcache>=0.2.0 in ./venv/lib/python3.9/site-packages (from aiohttp<4.0.0,>=3.8.3->langchain==0.1.17) (0.3.0)\n",
      "Requirement already satisfied: yarl<2.0,>=1.17.0 in ./venv/lib/python3.9/site-packages (from aiohttp<4.0.0,>=3.8.3->langchain==0.1.17) (1.18.3)\n",
      "Requirement already satisfied: marshmallow<4.0.0,>=3.18.0 in ./venv/lib/python3.9/site-packages (from dataclasses-json<0.7,>=0.5.7->langchain==0.1.17) (3.26.1)\n",
      "Requirement already satisfied: typing-inspect<1,>=0.4.0 in ./venv/lib/python3.9/site-packages (from dataclasses-json<0.7,>=0.5.7->langchain==0.1.17) (0.9.0)\n",
      "Requirement already satisfied: jsonpointer>=1.9 in ./venv/lib/python3.9/site-packages (from jsonpatch<2.0,>=1.33->langchain==0.1.17) (3.0.0)\n",
      "Requirement already satisfied: packaging<24.0,>=23.2 in ./venv/lib/python3.9/site-packages (from langchain-core<0.2.0,>=0.1.48->langchain==0.1.17) (23.2)\n",
      "Requirement already satisfied: httpx<1,>=0.23.0 in ./venv/lib/python3.9/site-packages (from langsmith<0.2.0,>=0.1.17->langchain==0.1.17) (0.28.1)\n",
      "Requirement already satisfied: orjson<4.0.0,>=3.9.14 in ./venv/lib/python3.9/site-packages (from langsmith<0.2.0,>=0.1.17->langchain==0.1.17) (3.10.15)\n",
      "Requirement already satisfied: requests-toolbelt<2.0.0,>=1.0.0 in ./venv/lib/python3.9/site-packages (from langsmith<0.2.0,>=0.1.17->langchain==0.1.17) (1.0.0)\n",
      "Requirement already satisfied: annotated-types>=0.6.0 in ./venv/lib/python3.9/site-packages (from pydantic<3,>=1->langchain==0.1.17) (0.7.0)\n",
      "Requirement already satisfied: pydantic-core==2.27.2 in ./venv/lib/python3.9/site-packages (from pydantic<3,>=1->langchain==0.1.17) (2.27.2)\n",
      "Requirement already satisfied: typing-extensions>=4.12.2 in ./venv/lib/python3.9/site-packages (from pydantic<3,>=1->langchain==0.1.17) (4.12.2)\n",
      "Requirement already satisfied: charset-normalizer<4,>=2 in ./venv/lib/python3.9/site-packages (from requests<3,>=2->langchain==0.1.17) (3.4.1)\n",
      "Requirement already satisfied: idna<4,>=2.5 in ./venv/lib/python3.9/site-packages (from requests<3,>=2->langchain==0.1.17) (3.10)\n",
      "Requirement already satisfied: urllib3<3,>=1.21.1 in ./venv/lib/python3.9/site-packages (from requests<3,>=2->langchain==0.1.17) (2.3.0)\n",
      "Requirement already satisfied: certifi>=2017.4.17 in ./venv/lib/python3.9/site-packages (from requests<3,>=2->langchain==0.1.17) (2025.1.31)\n",
      "Requirement already satisfied: greenlet!=0.4.17 in ./venv/lib/python3.9/site-packages (from SQLAlchemy<3,>=1.4->langchain==0.1.17) (3.1.1)\n",
      "Requirement already satisfied: anyio in ./venv/lib/python3.9/site-packages (from httpx<1,>=0.23.0->langsmith<0.2.0,>=0.1.17->langchain==0.1.17) (4.9.0)\n",
      "Requirement already satisfied: httpcore==1.* in ./venv/lib/python3.9/site-packages (from httpx<1,>=0.23.0->langsmith<0.2.0,>=0.1.17->langchain==0.1.17) (1.0.7)\n",
      "Requirement already satisfied: h11<0.15,>=0.13 in ./venv/lib/python3.9/site-packages (from httpcore==1.*->httpx<1,>=0.23.0->langsmith<0.2.0,>=0.1.17->langchain==0.1.17) (0.14.0)\n",
      "Requirement already satisfied: mypy-extensions>=0.3.0 in ./venv/lib/python3.9/site-packages (from typing-inspect<1,>=0.4.0->dataclasses-json<0.7,>=0.5.7->langchain==0.1.17) (1.0.0)\n",
      "Requirement already satisfied: exceptiongroup>=1.0.2 in ./venv/lib/python3.9/site-packages (from anyio->httpx<1,>=0.23.0->langsmith<0.2.0,>=0.1.17->langchain==0.1.17) (1.2.2)\n",
      "Requirement already satisfied: sniffio>=1.1 in ./venv/lib/python3.9/site-packages (from anyio->httpx<1,>=0.23.0->langsmith<0.2.0,>=0.1.17->langchain==0.1.17) (1.3.1)\n",
      "Note: you may need to restart the kernel to use updated packages.\n",
      "Requirement already satisfied: llama-parse==0.1.3 in ./venv/lib/python3.9/site-packages (0.1.3)\n",
      "Requirement already satisfied: llama-index<0.10.0,>=0.9.40 in ./venv/lib/python3.9/site-packages (from llama-parse==0.1.3) (0.9.48)\n",
      "Requirement already satisfied: SQLAlchemy>=1.4.49 in ./venv/lib/python3.9/site-packages (from SQLAlchemy[asyncio]>=1.4.49->llama-index<0.10.0,>=0.9.40->llama-parse==0.1.3) (2.0.39)\n",
      "Requirement already satisfied: aiohttp<4.0.0,>=3.8.6 in ./venv/lib/python3.9/site-packages (from llama-index<0.10.0,>=0.9.40->llama-parse==0.1.3) (3.11.14)\n",
      "Requirement already satisfied: dataclasses-json in ./venv/lib/python3.9/site-packages (from llama-index<0.10.0,>=0.9.40->llama-parse==0.1.3) (0.6.7)\n",
      "Requirement already satisfied: deprecated>=1.2.9.3 in ./venv/lib/python3.9/site-packages (from llama-index<0.10.0,>=0.9.40->llama-parse==0.1.3) (1.2.18)\n",
      "Requirement already satisfied: dirtyjson<2.0.0,>=1.0.8 in ./venv/lib/python3.9/site-packages (from llama-index<0.10.0,>=0.9.40->llama-parse==0.1.3) (1.0.8)\n",
      "Requirement already satisfied: fsspec>=2023.5.0 in ./venv/lib/python3.9/site-packages (from llama-index<0.10.0,>=0.9.40->llama-parse==0.1.3) (2025.3.0)\n",
      "Requirement already satisfied: httpx in ./venv/lib/python3.9/site-packages (from llama-index<0.10.0,>=0.9.40->llama-parse==0.1.3) (0.28.1)\n",
      "Requirement already satisfied: nest-asyncio<2.0.0,>=1.5.8 in ./venv/lib/python3.9/site-packages (from llama-index<0.10.0,>=0.9.40->llama-parse==0.1.3) (1.6.0)\n",
      "Requirement already satisfied: networkx>=3.0 in ./venv/lib/python3.9/site-packages (from llama-index<0.10.0,>=0.9.40->llama-parse==0.1.3) (3.2.1)\n",
      "Requirement already satisfied: nltk<4.0.0,>=3.8.1 in ./venv/lib/python3.9/site-packages (from llama-index<0.10.0,>=0.9.40->llama-parse==0.1.3) (3.9.1)\n",
      "Requirement already satisfied: numpy in ./venv/lib/python3.9/site-packages (from llama-index<0.10.0,>=0.9.40->llama-parse==0.1.3) (1.26.4)\n",
      "Requirement already satisfied: openai>=1.1.0 in ./venv/lib/python3.9/site-packages (from llama-index<0.10.0,>=0.9.40->llama-parse==0.1.3) (1.67.0)\n",
      "Requirement already satisfied: pandas in ./venv/lib/python3.9/site-packages (from llama-index<0.10.0,>=0.9.40->llama-parse==0.1.3) (2.2.3)\n",
      "Requirement already satisfied: requests>=2.31.0 in ./venv/lib/python3.9/site-packages (from llama-index<0.10.0,>=0.9.40->llama-parse==0.1.3) (2.32.3)\n",
      "Requirement already satisfied: tenacity<9.0.0,>=8.2.0 in ./venv/lib/python3.9/site-packages (from llama-index<0.10.0,>=0.9.40->llama-parse==0.1.3) (8.5.0)\n",
      "Requirement already satisfied: tiktoken>=0.3.3 in ./venv/lib/python3.9/site-packages (from llama-index<0.10.0,>=0.9.40->llama-parse==0.1.3) (0.9.0)\n",
      "Requirement already satisfied: typing-extensions>=4.5.0 in ./venv/lib/python3.9/site-packages (from llama-index<0.10.0,>=0.9.40->llama-parse==0.1.3) (4.12.2)\n",
      "Requirement already satisfied: typing-inspect>=0.8.0 in ./venv/lib/python3.9/site-packages (from llama-index<0.10.0,>=0.9.40->llama-parse==0.1.3) (0.9.0)\n",
      "Requirement already satisfied: aiohappyeyeballs>=2.3.0 in ./venv/lib/python3.9/site-packages (from aiohttp<4.0.0,>=3.8.6->llama-index<0.10.0,>=0.9.40->llama-parse==0.1.3) (2.6.1)\n",
      "Requirement already satisfied: aiosignal>=1.1.2 in ./venv/lib/python3.9/site-packages (from aiohttp<4.0.0,>=3.8.6->llama-index<0.10.0,>=0.9.40->llama-parse==0.1.3) (1.3.2)\n",
      "Requirement already satisfied: async-timeout<6.0,>=4.0 in ./venv/lib/python3.9/site-packages (from aiohttp<4.0.0,>=3.8.6->llama-index<0.10.0,>=0.9.40->llama-parse==0.1.3) (4.0.3)\n",
      "Requirement already satisfied: attrs>=17.3.0 in ./venv/lib/python3.9/site-packages (from aiohttp<4.0.0,>=3.8.6->llama-index<0.10.0,>=0.9.40->llama-parse==0.1.3) (25.3.0)\n",
      "Requirement already satisfied: frozenlist>=1.1.1 in ./venv/lib/python3.9/site-packages (from aiohttp<4.0.0,>=3.8.6->llama-index<0.10.0,>=0.9.40->llama-parse==0.1.3) (1.5.0)\n",
      "Requirement already satisfied: multidict<7.0,>=4.5 in ./venv/lib/python3.9/site-packages (from aiohttp<4.0.0,>=3.8.6->llama-index<0.10.0,>=0.9.40->llama-parse==0.1.3) (6.2.0)\n",
      "Requirement already satisfied: propcache>=0.2.0 in ./venv/lib/python3.9/site-packages (from aiohttp<4.0.0,>=3.8.6->llama-index<0.10.0,>=0.9.40->llama-parse==0.1.3) (0.3.0)\n",
      "Requirement already satisfied: yarl<2.0,>=1.17.0 in ./venv/lib/python3.9/site-packages (from aiohttp<4.0.0,>=3.8.6->llama-index<0.10.0,>=0.9.40->llama-parse==0.1.3) (1.18.3)\n",
      "Requirement already satisfied: wrapt<2,>=1.10 in ./venv/lib/python3.9/site-packages (from deprecated>=1.2.9.3->llama-index<0.10.0,>=0.9.40->llama-parse==0.1.3) (1.17.2)\n",
      "Requirement already satisfied: click in ./venv/lib/python3.9/site-packages (from nltk<4.0.0,>=3.8.1->llama-index<0.10.0,>=0.9.40->llama-parse==0.1.3) (8.1.8)\n",
      "Requirement already satisfied: joblib in ./venv/lib/python3.9/site-packages (from nltk<4.0.0,>=3.8.1->llama-index<0.10.0,>=0.9.40->llama-parse==0.1.3) (1.4.2)\n",
      "Requirement already satisfied: regex>=2021.8.3 in ./venv/lib/python3.9/site-packages (from nltk<4.0.0,>=3.8.1->llama-index<0.10.0,>=0.9.40->llama-parse==0.1.3) (2024.11.6)\n",
      "Requirement already satisfied: tqdm in ./venv/lib/python3.9/site-packages (from nltk<4.0.0,>=3.8.1->llama-index<0.10.0,>=0.9.40->llama-parse==0.1.3) (4.67.1)\n",
      "Requirement already satisfied: anyio<5,>=3.5.0 in ./venv/lib/python3.9/site-packages (from openai>=1.1.0->llama-index<0.10.0,>=0.9.40->llama-parse==0.1.3) (4.9.0)\n",
      "Requirement already satisfied: distro<2,>=1.7.0 in ./venv/lib/python3.9/site-packages (from openai>=1.1.0->llama-index<0.10.0,>=0.9.40->llama-parse==0.1.3) (1.9.0)\n",
      "Requirement already satisfied: jiter<1,>=0.4.0 in ./venv/lib/python3.9/site-packages (from openai>=1.1.0->llama-index<0.10.0,>=0.9.40->llama-parse==0.1.3) (0.9.0)\n",
      "Requirement already satisfied: pydantic<3,>=1.9.0 in ./venv/lib/python3.9/site-packages (from openai>=1.1.0->llama-index<0.10.0,>=0.9.40->llama-parse==0.1.3) (2.10.6)\n",
      "Requirement already satisfied: sniffio in ./venv/lib/python3.9/site-packages (from openai>=1.1.0->llama-index<0.10.0,>=0.9.40->llama-parse==0.1.3) (1.3.1)\n",
      "Requirement already satisfied: certifi in ./venv/lib/python3.9/site-packages (from httpx->llama-index<0.10.0,>=0.9.40->llama-parse==0.1.3) (2025.1.31)\n",
      "Requirement already satisfied: httpcore==1.* in ./venv/lib/python3.9/site-packages (from httpx->llama-index<0.10.0,>=0.9.40->llama-parse==0.1.3) (1.0.7)\n",
      "Requirement already satisfied: idna in ./venv/lib/python3.9/site-packages (from httpx->llama-index<0.10.0,>=0.9.40->llama-parse==0.1.3) (3.10)\n",
      "Requirement already satisfied: h11<0.15,>=0.13 in ./venv/lib/python3.9/site-packages (from httpcore==1.*->httpx->llama-index<0.10.0,>=0.9.40->llama-parse==0.1.3) (0.14.0)\n",
      "Requirement already satisfied: charset-normalizer<4,>=2 in ./venv/lib/python3.9/site-packages (from requests>=2.31.0->llama-index<0.10.0,>=0.9.40->llama-parse==0.1.3) (3.4.1)\n",
      "Requirement already satisfied: urllib3<3,>=1.21.1 in ./venv/lib/python3.9/site-packages (from requests>=2.31.0->llama-index<0.10.0,>=0.9.40->llama-parse==0.1.3) (2.3.0)\n",
      "Requirement already satisfied: greenlet!=0.4.17 in ./venv/lib/python3.9/site-packages (from SQLAlchemy>=1.4.49->SQLAlchemy[asyncio]>=1.4.49->llama-index<0.10.0,>=0.9.40->llama-parse==0.1.3) (3.1.1)\n",
      "Requirement already satisfied: mypy-extensions>=0.3.0 in ./venv/lib/python3.9/site-packages (from typing-inspect>=0.8.0->llama-index<0.10.0,>=0.9.40->llama-parse==0.1.3) (1.0.0)\n",
      "Requirement already satisfied: marshmallow<4.0.0,>=3.18.0 in ./venv/lib/python3.9/site-packages (from dataclasses-json->llama-index<0.10.0,>=0.9.40->llama-parse==0.1.3) (3.26.1)\n",
      "Requirement already satisfied: python-dateutil>=2.8.2 in ./venv/lib/python3.9/site-packages (from pandas->llama-index<0.10.0,>=0.9.40->llama-parse==0.1.3) (2.9.0.post0)\n",
      "Requirement already satisfied: pytz>=2020.1 in ./venv/lib/python3.9/site-packages (from pandas->llama-index<0.10.0,>=0.9.40->llama-parse==0.1.3) (2025.1)\n",
      "Requirement already satisfied: tzdata>=2022.7 in ./venv/lib/python3.9/site-packages (from pandas->llama-index<0.10.0,>=0.9.40->llama-parse==0.1.3) (2025.1)\n",
      "Requirement already satisfied: exceptiongroup>=1.0.2 in ./venv/lib/python3.9/site-packages (from anyio<5,>=3.5.0->openai>=1.1.0->llama-index<0.10.0,>=0.9.40->llama-parse==0.1.3) (1.2.2)\n",
      "Requirement already satisfied: packaging>=17.0 in ./venv/lib/python3.9/site-packages (from marshmallow<4.0.0,>=3.18.0->dataclasses-json->llama-index<0.10.0,>=0.9.40->llama-parse==0.1.3) (23.2)\n",
      "Requirement already satisfied: annotated-types>=0.6.0 in ./venv/lib/python3.9/site-packages (from pydantic<3,>=1.9.0->openai>=1.1.0->llama-index<0.10.0,>=0.9.40->llama-parse==0.1.3) (0.7.0)\n",
      "Requirement already satisfied: pydantic-core==2.27.2 in ./venv/lib/python3.9/site-packages (from pydantic<3,>=1.9.0->openai>=1.1.0->llama-index<0.10.0,>=0.9.40->llama-parse==0.1.3) (2.27.2)\n",
      "Requirement already satisfied: six>=1.5 in ./venv/lib/python3.9/site-packages (from python-dateutil>=2.8.2->pandas->llama-index<0.10.0,>=0.9.40->llama-parse==0.1.3) (1.17.0)\n",
      "Note: you may need to restart the kernel to use updated packages.\n",
      "Requirement already satisfied: qdrant-client==1.9.1 in ./venv/lib/python3.9/site-packages (1.9.1)\n",
      "Requirement already satisfied: grpcio>=1.41.0 in ./venv/lib/python3.9/site-packages (from qdrant-client==1.9.1) (1.71.0)\n",
      "Requirement already satisfied: grpcio-tools>=1.41.0 in ./venv/lib/python3.9/site-packages (from qdrant-client==1.9.1) (1.71.0)\n",
      "Requirement already satisfied: httpx>=0.20.0 in ./venv/lib/python3.9/site-packages (from httpx[http2]>=0.20.0->qdrant-client==1.9.1) (0.28.1)\n",
      "Requirement already satisfied: numpy>=1.21 in ./venv/lib/python3.9/site-packages (from qdrant-client==1.9.1) (1.26.4)\n",
      "Requirement already satisfied: portalocker<3.0.0,>=2.7.0 in ./venv/lib/python3.9/site-packages (from qdrant-client==1.9.1) (2.10.1)\n",
      "Requirement already satisfied: pydantic>=1.10.8 in ./venv/lib/python3.9/site-packages (from qdrant-client==1.9.1) (2.10.6)\n",
      "Requirement already satisfied: urllib3<3,>=1.26.14 in ./venv/lib/python3.9/site-packages (from qdrant-client==1.9.1) (2.3.0)\n",
      "Requirement already satisfied: protobuf<6.0dev,>=5.26.1 in ./venv/lib/python3.9/site-packages (from grpcio-tools>=1.41.0->qdrant-client==1.9.1) (5.29.4)\n",
      "Requirement already satisfied: setuptools in ./venv/lib/python3.9/site-packages (from grpcio-tools>=1.41.0->qdrant-client==1.9.1) (58.1.0)\n",
      "Requirement already satisfied: anyio in ./venv/lib/python3.9/site-packages (from httpx>=0.20.0->httpx[http2]>=0.20.0->qdrant-client==1.9.1) (4.9.0)\n",
      "Requirement already satisfied: certifi in ./venv/lib/python3.9/site-packages (from httpx>=0.20.0->httpx[http2]>=0.20.0->qdrant-client==1.9.1) (2025.1.31)\n",
      "Requirement already satisfied: httpcore==1.* in ./venv/lib/python3.9/site-packages (from httpx>=0.20.0->httpx[http2]>=0.20.0->qdrant-client==1.9.1) (1.0.7)\n",
      "Requirement already satisfied: idna in ./venv/lib/python3.9/site-packages (from httpx>=0.20.0->httpx[http2]>=0.20.0->qdrant-client==1.9.1) (3.10)\n",
      "Requirement already satisfied: h11<0.15,>=0.13 in ./venv/lib/python3.9/site-packages (from httpcore==1.*->httpx>=0.20.0->httpx[http2]>=0.20.0->qdrant-client==1.9.1) (0.14.0)\n",
      "Requirement already satisfied: h2<5,>=3 in ./venv/lib/python3.9/site-packages (from httpx[http2]>=0.20.0->qdrant-client==1.9.1) (4.2.0)\n",
      "Requirement already satisfied: annotated-types>=0.6.0 in ./venv/lib/python3.9/site-packages (from pydantic>=1.10.8->qdrant-client==1.9.1) (0.7.0)\n",
      "Requirement already satisfied: pydantic-core==2.27.2 in ./venv/lib/python3.9/site-packages (from pydantic>=1.10.8->qdrant-client==1.9.1) (2.27.2)\n",
      "Requirement already satisfied: typing-extensions>=4.12.2 in ./venv/lib/python3.9/site-packages (from pydantic>=1.10.8->qdrant-client==1.9.1) (4.12.2)\n",
      "Requirement already satisfied: hyperframe<7,>=6.1 in ./venv/lib/python3.9/site-packages (from h2<5,>=3->httpx[http2]>=0.20.0->qdrant-client==1.9.1) (6.1.0)\n",
      "Requirement already satisfied: hpack<5,>=4.1 in ./venv/lib/python3.9/site-packages (from h2<5,>=3->httpx[http2]>=0.20.0->qdrant-client==1.9.1) (4.1.0)\n",
      "Requirement already satisfied: exceptiongroup>=1.0.2 in ./venv/lib/python3.9/site-packages (from anyio->httpx>=0.20.0->httpx[http2]>=0.20.0->qdrant-client==1.9.1) (1.2.2)\n",
      "Requirement already satisfied: sniffio>=1.1 in ./venv/lib/python3.9/site-packages (from anyio->httpx>=0.20.0->httpx[http2]>=0.20.0->qdrant-client==1.9.1) (1.3.1)\n",
      "Note: you may need to restart the kernel to use updated packages.\n",
      "Requirement already satisfied: unstructured>=0.4.16 in ./venv/lib/python3.9/site-packages (0.17.2)\n",
      "Requirement already satisfied: chardet in ./venv/lib/python3.9/site-packages (from unstructured>=0.4.16) (5.2.0)\n",
      "Requirement already satisfied: filetype in ./venv/lib/python3.9/site-packages (from unstructured>=0.4.16) (1.2.0)\n",
      "Requirement already satisfied: python-magic in ./venv/lib/python3.9/site-packages (from unstructured>=0.4.16) (0.4.27)\n",
      "Requirement already satisfied: lxml in ./venv/lib/python3.9/site-packages (from unstructured>=0.4.16) (5.3.1)\n",
      "Requirement already satisfied: nltk in ./venv/lib/python3.9/site-packages (from unstructured>=0.4.16) (3.9.1)\n",
      "Requirement already satisfied: requests in ./venv/lib/python3.9/site-packages (from unstructured>=0.4.16) (2.32.3)\n",
      "Requirement already satisfied: beautifulsoup4 in ./venv/lib/python3.9/site-packages (from unstructured>=0.4.16) (4.13.3)\n",
      "Requirement already satisfied: emoji in ./venv/lib/python3.9/site-packages (from unstructured>=0.4.16) (2.14.1)\n",
      "Requirement already satisfied: dataclasses-json in ./venv/lib/python3.9/site-packages (from unstructured>=0.4.16) (0.6.7)\n",
      "Requirement already satisfied: python-iso639 in ./venv/lib/python3.9/site-packages (from unstructured>=0.4.16) (2025.2.18)\n",
      "Requirement already satisfied: langdetect in ./venv/lib/python3.9/site-packages (from unstructured>=0.4.16) (1.0.9)\n",
      "Requirement already satisfied: numpy in ./venv/lib/python3.9/site-packages (from unstructured>=0.4.16) (1.26.4)\n",
      "Requirement already satisfied: rapidfuzz in ./venv/lib/python3.9/site-packages (from unstructured>=0.4.16) (3.12.2)\n",
      "Requirement already satisfied: backoff in ./venv/lib/python3.9/site-packages (from unstructured>=0.4.16) (2.2.1)\n",
      "Requirement already satisfied: typing-extensions in ./venv/lib/python3.9/site-packages (from unstructured>=0.4.16) (4.12.2)\n",
      "Requirement already satisfied: unstructured-client in ./venv/lib/python3.9/site-packages (from unstructured>=0.4.16) (0.31.1)\n",
      "Requirement already satisfied: wrapt in ./venv/lib/python3.9/site-packages (from unstructured>=0.4.16) (1.17.2)\n",
      "Requirement already satisfied: tqdm in ./venv/lib/python3.9/site-packages (from unstructured>=0.4.16) (4.67.1)\n",
      "Requirement already satisfied: psutil in ./venv/lib/python3.9/site-packages (from unstructured>=0.4.16) (7.0.0)\n",
      "Requirement already satisfied: python-oxmsg in ./venv/lib/python3.9/site-packages (from unstructured>=0.4.16) (0.0.2)\n",
      "Requirement already satisfied: html5lib in ./venv/lib/python3.9/site-packages (from unstructured>=0.4.16) (1.1)\n",
      "Requirement already satisfied: soupsieve>1.2 in ./venv/lib/python3.9/site-packages (from beautifulsoup4->unstructured>=0.4.16) (2.6)\n",
      "Requirement already satisfied: marshmallow<4.0.0,>=3.18.0 in ./venv/lib/python3.9/site-packages (from dataclasses-json->unstructured>=0.4.16) (3.26.1)\n",
      "Requirement already satisfied: typing-inspect<1,>=0.4.0 in ./venv/lib/python3.9/site-packages (from dataclasses-json->unstructured>=0.4.16) (0.9.0)\n",
      "Requirement already satisfied: six>=1.9 in ./venv/lib/python3.9/site-packages (from html5lib->unstructured>=0.4.16) (1.17.0)\n",
      "Requirement already satisfied: webencodings in ./venv/lib/python3.9/site-packages (from html5lib->unstructured>=0.4.16) (0.5.1)\n",
      "Requirement already satisfied: click in ./venv/lib/python3.9/site-packages (from nltk->unstructured>=0.4.16) (8.1.8)\n",
      "Requirement already satisfied: joblib in ./venv/lib/python3.9/site-packages (from nltk->unstructured>=0.4.16) (1.4.2)\n",
      "Requirement already satisfied: regex>=2021.8.3 in ./venv/lib/python3.9/site-packages (from nltk->unstructured>=0.4.16) (2024.11.6)\n",
      "Requirement already satisfied: olefile in ./venv/lib/python3.9/site-packages (from python-oxmsg->unstructured>=0.4.16) (0.47)\n",
      "Requirement already satisfied: charset-normalizer<4,>=2 in ./venv/lib/python3.9/site-packages (from requests->unstructured>=0.4.16) (3.4.1)\n",
      "Requirement already satisfied: idna<4,>=2.5 in ./venv/lib/python3.9/site-packages (from requests->unstructured>=0.4.16) (3.10)\n",
      "Requirement already satisfied: urllib3<3,>=1.21.1 in ./venv/lib/python3.9/site-packages (from requests->unstructured>=0.4.16) (2.3.0)\n",
      "Requirement already satisfied: certifi>=2017.4.17 in ./venv/lib/python3.9/site-packages (from requests->unstructured>=0.4.16) (2025.1.31)\n",
      "Requirement already satisfied: aiofiles>=24.1.0 in ./venv/lib/python3.9/site-packages (from unstructured-client->unstructured>=0.4.16) (24.1.0)\n",
      "Requirement already satisfied: cryptography>=3.1 in ./venv/lib/python3.9/site-packages (from unstructured-client->unstructured>=0.4.16) (44.0.2)\n",
      "Requirement already satisfied: eval-type-backport>=0.2.0 in ./venv/lib/python3.9/site-packages (from unstructured-client->unstructured>=0.4.16) (0.2.2)\n",
      "Requirement already satisfied: httpx>=0.27.0 in ./venv/lib/python3.9/site-packages (from unstructured-client->unstructured>=0.4.16) (0.28.1)\n",
      "Requirement already satisfied: nest-asyncio>=1.6.0 in ./venv/lib/python3.9/site-packages (from unstructured-client->unstructured>=0.4.16) (1.6.0)\n",
      "Requirement already satisfied: pydantic>=2.10.3 in ./venv/lib/python3.9/site-packages (from unstructured-client->unstructured>=0.4.16) (2.10.6)\n",
      "Requirement already satisfied: pypdf>=4.0 in ./venv/lib/python3.9/site-packages (from unstructured-client->unstructured>=0.4.16) (5.4.0)\n",
      "Requirement already satisfied: python-dateutil>=2.8.2 in ./venv/lib/python3.9/site-packages (from unstructured-client->unstructured>=0.4.16) (2.9.0.post0)\n",
      "Requirement already satisfied: requests-toolbelt>=1.0.0 in ./venv/lib/python3.9/site-packages (from unstructured-client->unstructured>=0.4.16) (1.0.0)\n",
      "Requirement already satisfied: typing-inspection>=0.4.0 in ./venv/lib/python3.9/site-packages (from unstructured-client->unstructured>=0.4.16) (0.4.0)\n",
      "Requirement already satisfied: cffi>=1.12 in ./venv/lib/python3.9/site-packages (from cryptography>=3.1->unstructured-client->unstructured>=0.4.16) (1.17.1)\n",
      "Requirement already satisfied: anyio in ./venv/lib/python3.9/site-packages (from httpx>=0.27.0->unstructured-client->unstructured>=0.4.16) (4.9.0)\n",
      "Requirement already satisfied: httpcore==1.* in ./venv/lib/python3.9/site-packages (from httpx>=0.27.0->unstructured-client->unstructured>=0.4.16) (1.0.7)\n",
      "Requirement already satisfied: h11<0.15,>=0.13 in ./venv/lib/python3.9/site-packages (from httpcore==1.*->httpx>=0.27.0->unstructured-client->unstructured>=0.4.16) (0.14.0)\n",
      "Requirement already satisfied: packaging>=17.0 in ./venv/lib/python3.9/site-packages (from marshmallow<4.0.0,>=3.18.0->dataclasses-json->unstructured>=0.4.16) (23.2)\n",
      "Requirement already satisfied: annotated-types>=0.6.0 in ./venv/lib/python3.9/site-packages (from pydantic>=2.10.3->unstructured-client->unstructured>=0.4.16) (0.7.0)\n",
      "Requirement already satisfied: pydantic-core==2.27.2 in ./venv/lib/python3.9/site-packages (from pydantic>=2.10.3->unstructured-client->unstructured>=0.4.16) (2.27.2)\n",
      "Requirement already satisfied: mypy-extensions>=0.3.0 in ./venv/lib/python3.9/site-packages (from typing-inspect<1,>=0.4.0->dataclasses-json->unstructured>=0.4.16) (1.0.0)\n",
      "Requirement already satisfied: pycparser in ./venv/lib/python3.9/site-packages (from cffi>=1.12->cryptography>=3.1->unstructured-client->unstructured>=0.4.16) (2.22)\n",
      "Requirement already satisfied: exceptiongroup>=1.0.2 in ./venv/lib/python3.9/site-packages (from anyio->httpx>=0.27.0->unstructured-client->unstructured>=0.4.16) (1.2.2)\n",
      "Requirement already satisfied: sniffio>=1.1 in ./venv/lib/python3.9/site-packages (from anyio->httpx>=0.27.0->unstructured-client->unstructured>=0.4.16) (1.3.1)\n",
      "Note: you may need to restart the kernel to use updated packages.\n",
      "Requirement already satisfied: fastembed==0.2.7 in ./venv/lib/python3.9/site-packages (0.2.7)\n",
      "Requirement already satisfied: huggingface-hub<0.21,>=0.20 in ./venv/lib/python3.9/site-packages (from fastembed==0.2.7) (0.20.3)\n",
      "Requirement already satisfied: loguru<0.8.0,>=0.7.2 in ./venv/lib/python3.9/site-packages (from fastembed==0.2.7) (0.7.3)\n",
      "Requirement already satisfied: numpy>=1.21 in ./venv/lib/python3.9/site-packages (from fastembed==0.2.7) (1.26.4)\n",
      "Requirement already satisfied: onnx<2.0.0,>=1.15.0 in ./venv/lib/python3.9/site-packages (from fastembed==0.2.7) (1.17.0)\n",
      "Requirement already satisfied: onnxruntime<2.0.0,>=1.17.0 in ./venv/lib/python3.9/site-packages (from fastembed==0.2.7) (1.19.2)\n",
      "Requirement already satisfied: requests<3.0,>=2.31 in ./venv/lib/python3.9/site-packages (from fastembed==0.2.7) (2.32.3)\n",
      "Requirement already satisfied: tokenizers<0.16,>=0.15 in ./venv/lib/python3.9/site-packages (from fastembed==0.2.7) (0.15.2)\n",
      "Requirement already satisfied: tqdm<5.0,>=4.66 in ./venv/lib/python3.9/site-packages (from fastembed==0.2.7) (4.67.1)\n",
      "Requirement already satisfied: filelock in ./venv/lib/python3.9/site-packages (from huggingface-hub<0.21,>=0.20->fastembed==0.2.7) (3.18.0)\n",
      "Requirement already satisfied: fsspec>=2023.5.0 in ./venv/lib/python3.9/site-packages (from huggingface-hub<0.21,>=0.20->fastembed==0.2.7) (2025.3.0)\n",
      "Requirement already satisfied: pyyaml>=5.1 in ./venv/lib/python3.9/site-packages (from huggingface-hub<0.21,>=0.20->fastembed==0.2.7) (6.0.2)\n",
      "Requirement already satisfied: typing-extensions>=3.7.4.3 in ./venv/lib/python3.9/site-packages (from huggingface-hub<0.21,>=0.20->fastembed==0.2.7) (4.12.2)\n",
      "Requirement already satisfied: packaging>=20.9 in ./venv/lib/python3.9/site-packages (from huggingface-hub<0.21,>=0.20->fastembed==0.2.7) (23.2)\n",
      "Requirement already satisfied: protobuf>=3.20.2 in ./venv/lib/python3.9/site-packages (from onnx<2.0.0,>=1.15.0->fastembed==0.2.7) (5.29.4)\n",
      "Requirement already satisfied: coloredlogs in ./venv/lib/python3.9/site-packages (from onnxruntime<2.0.0,>=1.17.0->fastembed==0.2.7) (15.0.1)\n",
      "Requirement already satisfied: flatbuffers in ./venv/lib/python3.9/site-packages (from onnxruntime<2.0.0,>=1.17.0->fastembed==0.2.7) (25.2.10)\n",
      "Requirement already satisfied: sympy in ./venv/lib/python3.9/site-packages (from onnxruntime<2.0.0,>=1.17.0->fastembed==0.2.7) (1.13.3)\n",
      "Requirement already satisfied: charset-normalizer<4,>=2 in ./venv/lib/python3.9/site-packages (from requests<3.0,>=2.31->fastembed==0.2.7) (3.4.1)\n",
      "Requirement already satisfied: idna<4,>=2.5 in ./venv/lib/python3.9/site-packages (from requests<3.0,>=2.31->fastembed==0.2.7) (3.10)\n",
      "Requirement already satisfied: urllib3<3,>=1.21.1 in ./venv/lib/python3.9/site-packages (from requests<3.0,>=2.31->fastembed==0.2.7) (2.3.0)\n",
      "Requirement already satisfied: certifi>=2017.4.17 in ./venv/lib/python3.9/site-packages (from requests<3.0,>=2.31->fastembed==0.2.7) (2025.1.31)\n",
      "Requirement already satisfied: humanfriendly>=9.1 in ./venv/lib/python3.9/site-packages (from coloredlogs->onnxruntime<2.0.0,>=1.17.0->fastembed==0.2.7) (10.0)\n",
      "Requirement already satisfied: mpmath<1.4,>=1.1.0 in ./venv/lib/python3.9/site-packages (from sympy->onnxruntime<2.0.0,>=1.17.0->fastembed==0.2.7) (1.3.0)\n",
      "Note: you may need to restart the kernel to use updated packages.\n",
      "Requirement already satisfied: flashrank==0.2.4 in ./venv/lib/python3.9/site-packages (0.2.4)\n",
      "Requirement already satisfied: tokenizers in ./venv/lib/python3.9/site-packages (from flashrank==0.2.4) (0.15.2)\n",
      "Requirement already satisfied: onnxruntime in ./venv/lib/python3.9/site-packages (from flashrank==0.2.4) (1.19.2)\n",
      "Requirement already satisfied: numpy in ./venv/lib/python3.9/site-packages (from flashrank==0.2.4) (1.26.4)\n",
      "Requirement already satisfied: requests in ./venv/lib/python3.9/site-packages (from flashrank==0.2.4) (2.32.3)\n",
      "Requirement already satisfied: tqdm in ./venv/lib/python3.9/site-packages (from flashrank==0.2.4) (4.67.1)\n",
      "Requirement already satisfied: llama-cpp-python==0.2.67 in ./venv/lib/python3.9/site-packages (from flashrank==0.2.4) (0.2.67)\n",
      "Requirement already satisfied: typing-extensions>=4.5.0 in ./venv/lib/python3.9/site-packages (from llama-cpp-python==0.2.67->flashrank==0.2.4) (4.12.2)\n",
      "Requirement already satisfied: diskcache>=5.6.1 in ./venv/lib/python3.9/site-packages (from llama-cpp-python==0.2.67->flashrank==0.2.4) (5.6.3)\n",
      "Requirement already satisfied: jinja2>=2.11.3 in ./venv/lib/python3.9/site-packages (from llama-cpp-python==0.2.67->flashrank==0.2.4) (3.1.6)\n",
      "Requirement already satisfied: coloredlogs in ./venv/lib/python3.9/site-packages (from onnxruntime->flashrank==0.2.4) (15.0.1)\n",
      "Requirement already satisfied: flatbuffers in ./venv/lib/python3.9/site-packages (from onnxruntime->flashrank==0.2.4) (25.2.10)\n",
      "Requirement already satisfied: packaging in ./venv/lib/python3.9/site-packages (from onnxruntime->flashrank==0.2.4) (23.2)\n",
      "Requirement already satisfied: protobuf in ./venv/lib/python3.9/site-packages (from onnxruntime->flashrank==0.2.4) (5.29.4)\n",
      "Requirement already satisfied: sympy in ./venv/lib/python3.9/site-packages (from onnxruntime->flashrank==0.2.4) (1.13.3)\n",
      "Requirement already satisfied: charset-normalizer<4,>=2 in ./venv/lib/python3.9/site-packages (from requests->flashrank==0.2.4) (3.4.1)\n",
      "Requirement already satisfied: idna<4,>=2.5 in ./venv/lib/python3.9/site-packages (from requests->flashrank==0.2.4) (3.10)\n",
      "Requirement already satisfied: urllib3<3,>=1.21.1 in ./venv/lib/python3.9/site-packages (from requests->flashrank==0.2.4) (2.3.0)\n",
      "Requirement already satisfied: certifi>=2017.4.17 in ./venv/lib/python3.9/site-packages (from requests->flashrank==0.2.4) (2025.1.31)\n",
      "Requirement already satisfied: huggingface_hub<1.0,>=0.16.4 in ./venv/lib/python3.9/site-packages (from tokenizers->flashrank==0.2.4) (0.20.3)\n",
      "Requirement already satisfied: filelock in ./venv/lib/python3.9/site-packages (from huggingface_hub<1.0,>=0.16.4->tokenizers->flashrank==0.2.4) (3.18.0)\n",
      "Requirement already satisfied: fsspec>=2023.5.0 in ./venv/lib/python3.9/site-packages (from huggingface_hub<1.0,>=0.16.4->tokenizers->flashrank==0.2.4) (2025.3.0)\n",
      "Requirement already satisfied: pyyaml>=5.1 in ./venv/lib/python3.9/site-packages (from huggingface_hub<1.0,>=0.16.4->tokenizers->flashrank==0.2.4) (6.0.2)\n",
      "Requirement already satisfied: MarkupSafe>=2.0 in ./venv/lib/python3.9/site-packages (from jinja2>=2.11.3->llama-cpp-python==0.2.67->flashrank==0.2.4) (3.0.2)\n",
      "Requirement already satisfied: humanfriendly>=9.1 in ./venv/lib/python3.9/site-packages (from coloredlogs->onnxruntime->flashrank==0.2.4) (10.0)\n",
      "Requirement already satisfied: mpmath<1.4,>=1.1.0 in ./venv/lib/python3.9/site-packages (from sympy->onnxruntime->flashrank==0.2.4) (1.3.0)\n",
      "Note: you may need to restart the kernel to use updated packages.\n",
      "Requirement already satisfied: gdown in ./venv/lib/python3.9/site-packages (5.2.0)\n",
      "Requirement already satisfied: beautifulsoup4 in ./venv/lib/python3.9/site-packages (from gdown) (4.13.3)\n",
      "Requirement already satisfied: filelock in ./venv/lib/python3.9/site-packages (from gdown) (3.18.0)\n",
      "Requirement already satisfied: requests[socks] in ./venv/lib/python3.9/site-packages (from gdown) (2.32.3)\n",
      "Requirement already satisfied: tqdm in ./venv/lib/python3.9/site-packages (from gdown) (4.67.1)\n",
      "Requirement already satisfied: soupsieve>1.2 in ./venv/lib/python3.9/site-packages (from beautifulsoup4->gdown) (2.6)\n",
      "Requirement already satisfied: typing-extensions>=4.0.0 in ./venv/lib/python3.9/site-packages (from beautifulsoup4->gdown) (4.12.2)\n",
      "Requirement already satisfied: charset-normalizer<4,>=2 in ./venv/lib/python3.9/site-packages (from requests[socks]->gdown) (3.4.1)\n",
      "Requirement already satisfied: idna<4,>=2.5 in ./venv/lib/python3.9/site-packages (from requests[socks]->gdown) (3.10)\n",
      "Requirement already satisfied: urllib3<3,>=1.21.1 in ./venv/lib/python3.9/site-packages (from requests[socks]->gdown) (2.3.0)\n",
      "Requirement already satisfied: certifi>=2017.4.17 in ./venv/lib/python3.9/site-packages (from requests[socks]->gdown) (2025.1.31)\n",
      "Requirement already satisfied: PySocks!=1.5.7,>=1.5.6 in ./venv/lib/python3.9/site-packages (from requests[socks]->gdown) (1.7.1)\n",
      "Note: you may need to restart the kernel to use updated packages.\n"
     ]
    }
   ],
   "source": [
    "%pip install langchain-groq==0.1.3 #Allows to use Groq models with Langhain. Groq provides AI inference hardware optimized for speed and efficiency \n",
    "%pip install langchain==0.1.17     #Framework to build RAG powered by LLMs\n",
    "%pip install llama-parse==0.1.3    #Document Parsing Tool: used to extract structured data from PDFs, Word and other file formats\n",
    "%pip install qdrant-client==1.9.1  #Vector Database: for similarity search and document retrieval. Helps to store and query embeddings\n",
    "%pip install \"unstructured>=0.4.16\"  #For extracting and cleaning text from different document types\n",
    "%pip install fastembed==0.2.7             #Library for fast text embedding generation using models like BGE and MTEB.\n",
    "%pip install flashrank==0.2.4             #LTR(Learning-To-Rank) library used to improve search results based on relevance score\n",
    "%pip install gdown                        #To download files from drive/link"
   ]
  },
  {
   "cell_type": "markdown",
   "metadata": {},
   "source": [
    "## Step # 02: Import necessary libraries\n",
    "Import necessary libraries which will be used further. \n"
   ]
  },
  {
   "cell_type": "code",
   "execution_count": 2,
   "metadata": {},
   "outputs": [],
   "source": [
    "import os         #to manage environment variables\n",
    "import textwrap   #to format text output for better readability\n",
    "from pathlib import Path   #to handle file paths\n",
    "\n",
    "from IPython.display import Markdown  #Displays formatted Markdown output \n",
    "\n",
    "from langchain.chains import RetrievalQA                          #Retrieves relevant document\n",
    "from langchain.prompts import PromptTemplate                      #defines custom prompts for LLM\n",
    "from langchain.retrievers import ContextualCompressionRetriever   #Enhances retrieval by compressing retrieved documents\n",
    "from langchain.retrievers.document_compressors import FlashrankRerank  #Reranking model that improves search relevance\n",
    "from langchain.text_splitter import RecursiveCharacterTextSplitter     #Splits large documents into smaller chunks for better retrieval\n",
    "from langchain.vectorstores import Qdrant                              #Vector database to store and retrieve embeddings\n",
    "from langchain_community.document_loaders import UnstructuredMarkdownLoader  #Extracts text from markdown files\n",
    "from langchain_community.embeddings.fastembed import FastEmbedEmbeddings     #Generate text embedding quickly\n",
    "from langchain_core.prompts import ChatPromptTemplate                        #Format prompts for chat-based LLMs\n",
    "from langchain_groq import ChatGroq                                          #enables using Groq's AI models with Langchain\n",
    "from llama_parse import LlamaParse                                           #extracts structured text from various file formats\n"
   ]
  },
  {
   "cell_type": "markdown",
   "metadata": {},
   "source": [
    "## Step # 03: Set API-Key\n",
    "Create account on Groq and Llama. Then create your own API-Key. Copy the keys and set in environment variables \n"
   ]
  },
  {
   "cell_type": "code",
   "execution_count": null,
   "metadata": {},
   "outputs": [],
   "source": [
    "#Groq API Key: For AI model inference\n",
    "#LlamaParse API key: for document parsing and extraction\n",
    "os.environ[\"GROQ_API_KEY\"] = \"YOUR_GROQ_API_KEY\"\n",
    "os.environ[\"LLAMAPARSE_API_KEY\"] = \"YOUR_LLAMA_API_KEY\""
   ]
  },
  {
   "cell_type": "markdown",
   "metadata": {},
   "source": [
    "## Step # 04: Formatting Function\n",
    " \n",
    "This function ensures that text in response[\"result\"] is formatted into lines of at most 100 characters per line, preserving word boundaries\n",
    "It also maintain paragraph breaks by handling empty lines properly"
   ]
  },
  {
   "cell_type": "code",
   "execution_count": null,
   "metadata": {},
   "outputs": [],
   "source": [
    "#Function\n",
    "def print_response(response):\n",
    "    response_txt=response[\"result\"]\n",
    "    for chunk in response_txt.split(\"\\n\"):\n",
    "        if not chunk:\n",
    "            print()\n",
    "            continue\n",
    "        print(\"\\n\".joing(textwrap.wrap(chunk,100,break_long_words=False)))"
   ]
  },
  {
   "cell_type": "markdown",
   "metadata": {},
   "source": [
    "## Step # 05: Data\n",
    "Create data folder. Keep your pdf document under data folder"
   ]
  },
  {
   "cell_type": "code",
   "execution_count": 4,
   "metadata": {},
   "outputs": [
    {
     "name": "stdout",
     "output_type": "stream",
     "text": [
      "mkdir: cannot create directory ‘data’: File exists\n"
     ]
    }
   ],
   "source": [
    "#Create a data folder and download pdf document of data-earnings\n",
    "!mkdir data"
   ]
  },
  {
   "cell_type": "markdown",
   "metadata": {},
   "source": [
    "## Step # 06: Document Parsing\n",
    "\n",
    "This code snippet demonstrates how to use LlamaParse to extract and process financial information from a PDF document about the Banking Sector of Pakistan (2007–2012). The document contains unaudited financial data, revenue generation insights, and management discussions"
   ]
  },
  {
   "cell_type": "code",
   "execution_count": 7,
   "metadata": {},
   "outputs": [
    {
     "name": "stdout",
     "output_type": "stream",
     "text": [
      "Started parsing the file under job_id dd6adb5f-6101-45d5-ba48-f976c48081f8\n"
     ]
    }
   ],
   "source": [
    "#Document Parsing \n",
    "instruction=\"\"\"The provided document is about Banking Sector of Pakistan: The Case of Its Growth and\n",
    "Impact on Revenue Generation 2007 to 2012 .\n",
    "This form provides detailed financial information about the growth of banking system for a specific timeline.\n",
    "It includes aunaudited financial information, management discussion and analysis, and other relevant disclosures required.\n",
    "It contains revenue generation table.\n",
    "Try to be precise while answering the questions\"\"\"\n",
    "\n",
    "#LlamaParser: \n",
    "parser = LlamaParse(\n",
    "    api_key=os.getenv(\"LLAMAPARSE_API_KEY\"),\n",
    "    result_type=\"markdown\",\n",
    "    parsing_instruction=instruction,\n",
    "    max_timeout=5000,\n",
    "    )\n",
    "#llama_parse_documents contains list of parsed documents from the LlamaParse API\n",
    "llama_parse_documents = await parser.aload_data(\"data/The_Banking_Sector_of_Pakistan_The_Case.pdf\")"
   ]
  },
  {
   "cell_type": "code",
   "execution_count": 8,
   "metadata": {},
   "outputs": [],
   "source": [
    "parsed_doc = llama_parse_documents[0]  #display the 1 document from the list"
   ]
  },
  {
   "cell_type": "code",
   "execution_count": 9,
   "metadata": {},
   "outputs": [
    {
     "data": {
      "text/markdown": [
       "# IOSR Journal of Economics and Finance (IOSR-JEF)\n",
       "\n",
       "e-ISSN: 2321-5933, p-ISSN: 2321-5925. Volume 1, Issue 5 (Sep. – Oct. 2013), PP 46-50\n",
       "\n",
       "www.iosrjournals.org\n",
       "\n",
       "# The Banking Sector of Pakistan: The Case of Its Growth and Impact on Revenue Generation 2007 to 2012\n",
       "\n",
       "Sana Zafar, Dr. Farooq Aziz\n",
       "\n",
       "Research Scholar of Department of Education and Social Sciences, Hamdard University, Pakistan\n",
       "\n",
       "Faculty of Department of Education and Social Science, Hamdard University, Pakistan\n",
       "\n",
       "# Abstract\n",
       "\n",
       "The banking sector of Pakistan played an important role in the growth and development of the economy of Pakistan. This study aims to find the reasons behind the growth of the banking sector and how it can influence the revenue generation of the sector. The reasons are investigated and the current state of the banking sector is also reviewed to study the growth patterns. The historical evidence is first collected and then analyzed, so the current survival of the sector could be studied even after the Global Financial Crisis. Financial Soundness Indicators provide further indept analyses of the factors which contributed towards the growth of the banking sector of Pakistan. The reforms in the banking sector which are the real reasons for the growth in the banking sector are summarized under the rationale behind growth in the banking sector of Pakistan. The banking sector of Pakistan is the only sector of the economy which survived the Global Financial Crisis. So, this study provides evidence that Pakistan’s banking sector is still resilient and is profitable which suggests that it’s still a healthy sector for the investors to make safe investments with reliable and consistent returns. The government and the common man both can be benefited by the positive performance of the banking sector of Pakistan.\n",
       "\n",
       "# Keywords\n",
       "\n",
       "banking sector growth, economic growth, revenue generation, survival through global financial crisis, financial soundness indicators\n",
       "\n",
       "# I. INTRODUCTION\n",
       "\n",
       "The purpose of this study is to find out the main reasons of growth in the banking sector of Pakistan and how it contributes to revenue generation. As the banking sector plays an important role in the economic development of the country so the government of Pakistan must support this sector. The growth in the banking sector was observed after 1990 when liberalization was done through banking sector reforms. Bank is a financial institution which lends money and safeguards the deposits of the bank account holders. These deposits can be withdrawn by cheques. Banks are considered as financial intermediaries. The function of a financial intermediary is to sell the products designed by them to make money. The banks acquire interest by selling their obligations. The Pakistani banking sector has gone through different phases of growth. The sector was directed by the government of Pakistan to implement the development strategies till 1980’s (Hardy & Patti, 2001, p.13). To stabilize the financial and banking sector of Pakistan, the government nationalized the institutions so the declining economic growth can be revived (Akhtar et al., 2010). Later in 1990, the government of Pakistan liberalized and deregulated the banking sector. To maintain the market based banking, the government privatized the government banks and also made relaxations to help the private sector to open up new private banks. The target was to improve the management system and increase the earning of banks by strengthening the quality of assets provided by the banks. Other than this, relaxations were provided in credit control, deregulations were observed in interest rates and capital market developments helped in creation of competitive environment in the banking industry of Pakistan (Akhtar et al., 2010).\n",
       "\n",
       "The banking sector of Pakistan has gone through three phases which are pre-nationalization, nationalization and post nationalization. In pre-nationalization phase, Australian Bank Ltd. and Habib Bank Ltd. were the only two banks after the partition of Pakistan and India on August 14, 1947. For both the newly established countries, the Reserve Bank of India was performing as the central bank. A need was felt to establish the banking sector of Pakistan because the Reserve Bank of India was not performing its functions fairly for Pakistani banking industry. The Pakistani government founded State Bank of Pakistan in 1948 and National Bank of Pakistan in 1949. The Government then launched State Bank of Pakistan act in 1956 and introduced Banking Companies Ordinance in 1962 for the development of banking sector of Pakistan. The second phase began in 1974. The government decided to nationalize the banking sector by merging all the banks and established five banks. The last phase which is titled post nationalization began in 1990 when the government of Pakistan privatized the banks and denationalized two financial institutions by making amendments in National Act of 1974. The government made relaxation in the policy of "
      ],
      "text/plain": [
       "<IPython.core.display.Markdown object>"
      ]
     },
     "execution_count": 9,
     "metadata": {},
     "output_type": "execute_result"
    }
   ],
   "source": [
    "Markdown(parsed_doc.text[:5000]) #Display first 5000 characters of textusing Markdown for better readibility"
   ]
  },
  {
   "cell_type": "markdown",
   "metadata": {},
   "source": [
    "## Step # 07: Create parsed_document.md file\n",
    "\n",
    "In this step, we save the parsed document text into a Markdown file (parsed_document.md) for further analysis. This allows us to store and review the extracted data conveniently."
   ]
  },
  {
   "cell_type": "code",
   "execution_count": 10,
   "metadata": {},
   "outputs": [],
   "source": [
    "#Create a file named parsed_document.md and write extracted text into it from the parsed documents\n",
    "document_path=Path(\"data/parsed_document.md\")\n",
    "with document_path.open(\"a\") as f:\n",
    "    f.write(parsed_doc.text)"
   ]
  },
  {
   "cell_type": "markdown",
   "metadata": {},
   "source": [
    "## Step # 08: Converting Markdown File into Vector Embeddings\n",
    "\n",
    "This step involves reading the extracted Markdown file and converting it into structured \"Document\" objects using UnstructuredMarkdownLoader. These objects can later be used for vector embeddings and semantic search."
   ]
  },
  {
   "cell_type": "code",
   "execution_count": 11,
   "metadata": {},
   "outputs": [],
   "source": [
    "#Vector Embeddings\n",
    "loader = UnstructuredMarkdownLoader(document_path) #read and process markdown file\n",
    "loaded_documents=loader.load()                     #reads Markdown file and convert it into list of \"Document\" objects"
   ]
  },
  {
   "cell_type": "code",
   "execution_count": 12,
   "metadata": {},
   "outputs": [
    {
     "data": {
      "text/plain": [
       "14"
      ]
     },
     "execution_count": 12,
     "metadata": {},
     "output_type": "execute_result"
    }
   ],
   "source": [
    "#Split large document into small chunks for processing\n",
    "text_splitter = RecursiveCharacterTextSplitter(chunk_size=2048, chunk_overlap=128)\n",
    "docs = text_splitter.split_documents(loaded_documents)     #split large documents\n",
    "len(docs)"
   ]
  },
  {
   "cell_type": "code",
   "execution_count": 13,
   "metadata": {},
   "outputs": [
    {
     "name": "stdout",
     "output_type": "stream",
     "text": [
      "IOSR Journal of Economics and Finance (IOSR-JEF)\n",
      "\n",
      "e-ISSN: 2321-5933, p-ISSN: 2321-5925. Volume 1, Issue 5 (Sep. – Oct. 2013), PP 46-50\n",
      "\n",
      "www.iosrjournals.org\n",
      "\n",
      "The Banking Sector of Pakistan: The Case of Its Growth and Impact on Revenue Generation 2007 to 2012\n",
      "\n",
      "Sana Zafar, Dr. Farooq Aziz\n",
      "\n",
      "Research Scholar of Department of Education and Social Sciences, Hamdard University, Pakistan\n",
      "\n",
      "Faculty of Department of Education and Social Science, Hamdard University, Pakistan\n",
      "\n",
      "Abstract\n",
      "\n",
      "The banking sector of Pakistan played an important role in the growth and development of the economy of Pakistan. This study aims to find the reasons behind the growth of the banking sector and how it can influence the revenue generation of the sector. The reasons are investigated and the current state of the banking sector is also reviewed to study the growth patterns. The historical evidence is first collected and then analyzed, so the current survival of the sector could be studied even after the Global Financial Crisis. Financial Soundness Indicators provide further indept analyses of the factors which contributed towards the growth of the banking sector of Pakistan. The reforms in the banking sector which are the real reasons for the growth in the banking sector are summarized under the rationale behind growth in the banking sector of Pakistan. The banking sector of Pakistan is the only sector of the economy which survived the Global Financial Crisis. So, this study provides evidence that Pakistan’s banking sector is still resilient and is profitable which suggests that it’s still a healthy sector for the investors to make safe investments with reliable and consistent returns. The government and the common man both can be benefited by the positive performance of the banking sector of Pakistan.\n",
      "\n",
      "Keywords\n",
      "\n",
      "banking sector growth, economic growth, revenue generation, survival through global financial crisis, financial soundness indicators\n",
      "\n",
      "I. INTRODUCTION\n"
     ]
    }
   ],
   "source": [
    "print(docs[0].page_content)"
   ]
  },
  {
   "cell_type": "markdown",
   "metadata": {},
   "source": [
    "## Step # 09: Initializing an Embedding Model for Vector Representation\n",
    " \n",
    "In this step, we convert text into numerical vectors using FastEmbedEmbeddings. These vector embeddings capture the semantic meaning of text, enabling tasks like semantic search, clustering, similarity comparison, and retrieval-augmented generation (RAG). For this purpose we will use Embedding model from huggingface"
   ]
  },
  {
   "cell_type": "code",
   "execution_count": 14,
   "metadata": {},
   "outputs": [
    {
     "name": "stderr",
     "output_type": "stream",
     "text": [
      "/home/mahrukh/Advance_RAG_using_Langchain/venv/lib/python3.9/site-packages/tqdm/auto.py:21: TqdmWarning: IProgress not found. Please update jupyter and ipywidgets. See https://ipywidgets.readthedocs.io/en/stable/user_install.html\n",
      "  from .autonotebook import tqdm as notebook_tqdm\n",
      "config.json: 100%|██████████| 740/740 [00:00<00:00, 51.6kB/s]\n",
      "special_tokens_map.json: 100%|██████████| 695/695 [00:00<00:00, 148kB/s]\n",
      "tokenizer_config.json: 100%|██████████| 1.24k/1.24k [00:00<00:00, 159kB/s]\n",
      "\n",
      "\u001b[A\n",
      "tokenizer.json: 100%|██████████| 711k/711k [00:00<00:00, 824kB/s]\n",
      "model_optimized.onnx: 100%|██████████| 218M/218M [00:59<00:00, 3.64MB/s]\n",
      "Fetching 5 files: 100%|██████████| 5/5 [01:00<00:00, 12.18s/it]\n"
     ]
    }
   ],
   "source": [
    "embeddings=FastEmbedEmbeddings(model_name=\"BAAI/bge-base-en-v1.5\")"
   ]
  },
  {
   "cell_type": "markdown",
   "metadata": {},
   "source": [
    "## Step # 10: Initializing Qdrant Vector Database & Storing Document Embeddings\n",
    "\n",
    "In this step, we use Qdrant, a high-performance vector database, to store document embeddings for efficient semantic search, retrieval, and similarity matching. This enables fast and scalable document searches using vector-based methods."
   ]
  },
  {
   "cell_type": "code",
   "execution_count": 16,
   "metadata": {},
   "outputs": [],
   "source": [
    "#Initializes Qdrant Vector Database and store document embeddings for efficient retrieval \n",
    "qdrant = Qdrant.from_documents(\n",
    "    docs,\n",
    "    embeddings,\n",
    "    #location=\":memory:\",\n",
    "    path=\"./db\",\n",
    "    collection_name=\"document_embeddings\"\n",
    ")"
   ]
  },
  {
   "cell_type": "markdown",
   "metadata": {},
   "source": [
    "## Step # 11: Performing Similarity Search and Retrieving Top Documents from Qdrant\n",
    "\n",
    "This step involves:\n",
    "- Executing a similarity search in the Qdrant vector database to retrieve relevant documents.\n",
    "- Extracting the top 5 most similar documents based on their vector similarity scores.\n",
    "- Displaying results with document IDs and scores to evaluate relevance."
   ]
  },
  {
   "cell_type": "code",
   "execution_count": 19,
   "metadata": {},
   "outputs": [],
   "source": [
    "import time\n",
    "query = \"What are the main reasons of growth in the banking sector of Pakistan?\"\n",
    "similar_docs = qdrant.similarity_search_with_score(query)"
   ]
  },
  {
   "cell_type": "code",
   "execution_count": 20,
   "metadata": {},
   "outputs": [
    {
     "name": "stdout",
     "output_type": "stream",
     "text": [
      "text:I. INTRODUCTION\n",
      "\n",
      "The purpose of this study is to find out the main reasons of growth in the banking sector of Pakistan and how it contributes to revenue generation. As the banking sector plays an important role in the economic development of the country so\n",
      "\n",
      "score:0.8418484830504924\n",
      "--------------------------------------------------------------------------------\n",
      "\n",
      "text:Historical evidences are provided to study the developments in the banking sector of Pakistan.\n",
      "\n",
      "Current overview of the banking sector is provided.\n",
      "\n",
      "Main reasons are investigated to study the rapid growth in the banking sector of Pakistan.\n",
      "\n",
      "To measure the \n",
      "\n",
      "score:0.8196797012109495\n",
      "--------------------------------------------------------------------------------\n",
      "\n",
      "text:www.iosrjournals.org\n",
      "\n",
      "46 | Page\n",
      "\n",
      "The Banking Sector of Pakistan: The Case of Its Growth And Impact On Revenue Generation\n",
      "\n",
      "The Pakistani banking industry encompasses nationalized commercial banks, private banks, public sector banks, foreign banks, Islamic b\n",
      "\n",
      "score:0.7968128805193775\n",
      "--------------------------------------------------------------------------------\n",
      "\n",
      "text:IOSR Journal of Economics and Finance (IOSR-JEF)\n",
      "\n",
      "e-ISSN: 2321-5933, p-ISSN: 2321-5925. Volume 1, Issue 5 (Sep. – Oct. 2013), PP 46-50\n",
      "\n",
      "www.iosrjournals.org\n",
      "\n",
      "The Banking Sector of Pakistan: The Case of Its Growth and Impact on Revenue Generation 2007 to 20\n",
      "\n",
      "score:0.7740561497734555\n",
      "--------------------------------------------------------------------------------\n",
      "\n"
     ]
    }
   ],
   "source": [
    "#Perform similarity search \n",
    "for doc, score in similar_docs:\n",
    "    print(f\"text:{doc.page_content[:256]}\\n\")\n",
    "    print(f\"score:{score}\")\n",
    "    print(\"-\"*80)\n",
    "    print()\n"
   ]
  },
  {
   "cell_type": "code",
   "execution_count": 21,
   "metadata": {},
   "outputs": [],
   "source": [
    "#Retrieve top 5 relevant documents from Qdrant vector database based on a given query\n",
    "import time \n",
    "retriever = qdrant.as_retriever(search_kwargs={\"k\":5})\n",
    "retrieved_docs = retriever.invoke(query)"
   ]
  },
  {
   "cell_type": "code",
   "execution_count": 22,
   "metadata": {},
   "outputs": [
    {
     "name": "stdout",
     "output_type": "stream",
     "text": [
      "id: accc997d56ca40188fe27c96f314edb4\n",
      "\n",
      "text: I. INTRODUCTION\n",
      "\n",
      "The purpose of this study is to find out the main reasons of growth in the banking sector of Pakistan and how it contributes to revenue generation. As the banking sector plays an important role in the economic development of the country so\n",
      "\n",
      "--------------------------------------------------------------------------------\n",
      "\n",
      "id: a710a0eb3aee4a0188eddd5d8b9624c3\n",
      "\n",
      "text: Historical evidences are provided to study the developments in the banking sector of Pakistan.\n",
      "\n",
      "Current overview of the banking sector is provided.\n",
      "\n",
      "Main reasons are investigated to study the rapid growth in the banking sector of Pakistan.\n",
      "\n",
      "To measure the \n",
      "\n",
      "--------------------------------------------------------------------------------\n",
      "\n",
      "id: 3e6375b44eea4407a4dd8cc0b6c132c2\n",
      "\n",
      "text: www.iosrjournals.org\n",
      "\n",
      "46 | Page\n",
      "\n",
      "The Banking Sector of Pakistan: The Case of Its Growth And Impact On Revenue Generation\n",
      "\n",
      "The Pakistani banking industry encompasses nationalized commercial banks, private banks, public sector banks, foreign banks, Islamic b\n",
      "\n",
      "--------------------------------------------------------------------------------\n",
      "\n",
      "id: 65b41b77da1c45ff99c58aea9a55d41a\n",
      "\n",
      "text: IOSR Journal of Economics and Finance (IOSR-JEF)\n",
      "\n",
      "e-ISSN: 2321-5933, p-ISSN: 2321-5925. Volume 1, Issue 5 (Sep. – Oct. 2013), PP 46-50\n",
      "\n",
      "www.iosrjournals.org\n",
      "\n",
      "The Banking Sector of Pakistan: The Case of Its Growth and Impact on Revenue Generation 2007 to 20\n",
      "\n",
      "--------------------------------------------------------------------------------\n",
      "\n",
      "id: 4953920500b044d1ae2332b13f00e486\n",
      "\n",
      "text: VII. CONCLUSION\n",
      "\n",
      "This research paper concludes that the banking sector is still resilient after the Global Financial Crisis. It not only survived the shock but also regained its position. After analyzing the financial soundness indicators, growth is indica\n",
      "\n",
      "--------------------------------------------------------------------------------\n",
      "\n"
     ]
    }
   ],
   "source": [
    "for doc in retrieved_docs:\n",
    "    print(f\"id: {doc.metadata['_id']}\\n\")\n",
    "    print(f\"text: {doc.page_content[:256]}\\n\")\n",
    "    print(\"-\"*80)\n",
    "    print()"
   ]
  },
  {
   "cell_type": "markdown",
   "metadata": {},
   "source": [
    "## Step # 11: Implementing Reranking to Improve Search Results\n",
    "\n",
    "Reranking enhances document retrieval by re-scoring and reordering search results using a dedicated reranking model. This step improves the relevance of retrieved documents, ensuring that the most contextually accurate results appear at the top."
   ]
  },
  {
   "cell_type": "code",
   "execution_count": 23,
   "metadata": {},
   "outputs": [
    {
     "name": "stdout",
     "output_type": "stream",
     "text": [
      "Downloading ms-marco-MiniLM-L-12-v2...\n"
     ]
    },
    {
     "name": "stderr",
     "output_type": "stream",
     "text": [
      "ms-marco-MiniLM-L-12-v2.zip: 100%|██████████| 21.6M/21.6M [00:05<00:00, 3.90MiB/s]\n"
     ]
    }
   ],
   "source": [
    "#Reranking: enhances retrieval process by using a reranking model to refine retrieved search results\n",
    "compressor = FlashrankRerank(model=\"ms-marco-MiniLM-L-12-v2\")         #initialize rerank model\n",
    "compression_retriever = ContextualCompressionRetriever(base_compressor=compressor, base_retriever=retriever)  #filters and rank retrieved document"
   ]
  },
  {
   "cell_type": "code",
   "execution_count": 24,
   "metadata": {},
   "outputs": [
    {
     "name": "stdout",
     "output_type": "stream",
     "text": [
      "Running pairwise ranking..\n"
     ]
    },
    {
     "data": {
      "text/plain": [
       "3"
      ]
     },
     "execution_count": 24,
     "metadata": {},
     "output_type": "execute_result"
    }
   ],
   "source": [
    "import time\n",
    "reranked_docs = compression_retriever.invoke(query)\n",
    "len(reranked_docs)"
   ]
  },
  {
   "cell_type": "code",
   "execution_count": 25,
   "metadata": {},
   "outputs": [
    {
     "name": "stdout",
     "output_type": "stream",
     "text": [
      "id: accc997d56ca40188fe27c96f314edb4\n",
      "\n",
      "text: I. INTRODUCTION\n",
      "\n",
      "The purpose of this study is to find out the main reasons of growth in the banking sector of Pakistan and how it contributes to revenue generation. As the banking sector plays an important role in the economic development of the country so\n",
      "\n",
      "--------------------------------------------------------------------------------\n",
      "\n",
      "id: a710a0eb3aee4a0188eddd5d8b9624c3\n",
      "\n",
      "text: Historical evidences are provided to study the developments in the banking sector of Pakistan.\n",
      "\n",
      "Current overview of the banking sector is provided.\n",
      "\n",
      "Main reasons are investigated to study the rapid growth in the banking sector of Pakistan.\n",
      "\n",
      "To measure the \n",
      "\n",
      "--------------------------------------------------------------------------------\n",
      "\n",
      "id: 4953920500b044d1ae2332b13f00e486\n",
      "\n",
      "text: VII. CONCLUSION\n",
      "\n",
      "This research paper concludes that the banking sector is still resilient after the Global Financial Crisis. It not only survived the shock but also regained its position. After analyzing the financial soundness indicators, growth is indica\n",
      "\n",
      "--------------------------------------------------------------------------------\n",
      "\n"
     ]
    }
   ],
   "source": [
    "for doc in reranked_docs:\n",
    "    print(f\"id: {doc.metadata['_id']}\\n\")\n",
    "    print(f\"text: {doc.page_content[:256]}\\n\")\n",
    "    print(\"-\"*80)\n",
    "    print()"
   ]
  },
  {
   "cell_type": "markdown",
   "metadata": {},
   "source": [
    "## Step # 12: Question Answering (Q/A) Over a Document Using Groq LLM\n",
    "This section implements a retrieval-augmented question-answering (QA) system using Groq's Llama3-70B model. It enables answering user queries based on retrieved document information."
   ]
  },
  {
   "cell_type": "code",
   "execution_count": 26,
   "metadata": {},
   "outputs": [],
   "source": [
    "#Initialize LLM model using Groq\n",
    "llm = ChatGroq(temperature=0, model_name=\"llama3-70b-8192\")"
   ]
  },
  {
   "cell_type": "code",
   "execution_count": 27,
   "metadata": {},
   "outputs": [],
   "source": [
    "#Custom Prompt Template\n",
    "prompt_template=\"\"\"\n",
    "Use the following pieces of information to answer the user's question.\n",
    "If you don't know the answer, just say that you don't know, don't try to make up an answer.\n",
    "\n",
    "Context: {context}\n",
    "Question: {question}\n",
    "\n",
    "Answer the question and provide additional helpful information,\n",
    "based on the pieces of information, if applicable. Be succinct.\n",
    "\n",
    "Responses should be properly formatted to be easily read.\n",
    "\"\"\"\n",
    "prompt = PromptTemplate(template=prompt_template, input_variables=[\"context\",\"question\"])"
   ]
  },
  {
   "cell_type": "code",
   "execution_count": 28,
   "metadata": {},
   "outputs": [],
   "source": [
    "#Initialize Retrieval-based Question/Answering using Langchain\n",
    "\"\"\"chain_type=\"stuff\"\n",
    "Defines how retrieved documents are processed before sending them to the LLM.\n",
    "\"stuff\" → Concatenates all retrieved documents and feeds them as context to the LLM.\n",
    "Other options:\n",
    "Other options include:\n",
    "1. \"map_reduce\" → Processes documents separately, summarizes them, then combines.\n",
    "2. \"refine\" → Iteratively refines the answer based on retrieved documents.\n",
    "\n",
    "\"\"\"\n",
    "qa= RetrievalQA.from_chain_type(\n",
    "    llm=llm,\n",
    "    chain_type=\"stuff\",       #how retrieved documents are processed before sending them to LLM, it concatenates all documents and feeds them as context to LLM\n",
    "    retriever=compression_retriever,\n",
    "    return_source_documents=True,   #Ensures that the retrieved source documents are returned alongside the generated answer\n",
    "    chain_type_kwargs={\"prompt\":prompt,\"verbose\":True},\n",
    ")"
   ]
  },
  {
   "cell_type": "code",
   "execution_count": 29,
   "metadata": {},
   "outputs": [
    {
     "name": "stdout",
     "output_type": "stream",
     "text": [
      "Running pairwise ranking..\n",
      "\n",
      "\n",
      "\u001b[1m> Entering new StuffDocumentsChain chain...\u001b[0m\n",
      "\n",
      "\n",
      "\u001b[1m> Entering new LLMChain chain...\u001b[0m\n",
      "Prompt after formatting:\n",
      "\u001b[32;1m\u001b[1;3m\n",
      "Use the following pieces of information to answer the user's question.\n",
      "If you don't know the answer, just say that you don't know, don't try to make up an answer.\n",
      "\n",
      "Context: www.iosrjournals.org\n",
      "\n",
      "46 | Page\n",
      "\n",
      "The Banking Sector of Pakistan: The Case of Its Growth And Impact On Revenue Generation\n",
      "\n",
      "The Pakistani banking industry encompasses nationalized commercial banks, private banks, public sector banks, foreign banks, Islamic banks, specialized banks and microfinance banks. There are some companies in Pakistan which are working as banks so the financial sector can develop along with economic growth. In 1993, 33 commercial banks were functioning out of which 19 were foreign and 14 were local banks. By the end of 2001, the number of commercial banks increased to 43, out of which 19 were foreign banks and 24 were local banks (Akhtaret al., 2010). In 2010, the number of bank branches reached 9,348 which comprised of 25 domestic private banks, five public commercial banks, four specialized banks and six foreign banks (Khalabat, 2011, para 8). At present, the State Bank of Pakistan is regulating 46 banks which comprise of 39 local banks and seven foreign banks. The local banks comprise of four specialized banks, five public sector banks, five Islamic banks, eight microfinance banks and 17 private banks (State Bank of Pakistan, 2012). This indicates that the banking sector of Pakistan is growing rapidly. This research paper will contribute towards the body of knowledge of the banking sector of Pakistan. It will provide guidelines for the banking sector and it will be helpful for the government of Pakistan to formulate economic policies. Moreover, this research will help other researchers in the field. This research paper not only examines the reasons of growth in the banking sector of Pakistan but also examines the financial soundness indicators which are the real reasons of growth in the banking sector.\n",
      "\n",
      "II. RESEARCH OBJECTIVES\n",
      "\n",
      "The main objective of this study is to investigate the factors which contributed towards growth in the banking sector of Pakistan and how it influenced the revenue generation of the banks. The specific objectives of this research are as follows:\n",
      "\n",
      "Historical evidences are provided to study the developments in the banking sector of Pakistan.\n",
      "\n",
      "Current overview of the banking sector is provided.\n",
      "\n",
      "Main reasons are investigated to study the rapid growth in the banking sector of Pakistan.\n",
      "\n",
      "To measure the impact of revenue generation by banks in Pakistan.\n",
      "\n",
      "III. LITERATURE REVIEW\n",
      "\n",
      "Before the partition of Pakistan and India in 1947, the banking in Pakistan was dominated by the British banks (Ghazanfar, 2011). Only two banks were located in Pakistan’s territory at the time of independence with total deposited amount of 880.0 million (Qayyum, 2007). Some banks of Pakistan faced liquidation and the payments were not made to the depositors (Ghazanfar, 2011). Steps were taken to handle such issues and to establish the banking industry of Pakistan. In 1948, State Bank of Pakistan was established (Qayyum, 2007). The operating domestic bank branches were only 25 out of 195 (Ghazanfar, 2011). The State Bank of Pakistan focused on promoting the banking industry so trade and commerce can be promoted in the country (Shirazi, 2010). The State Bank of Pakistan supported Habib Bank Limited, National Bank of Pakistan and Allied Bank Limited to achieve this objective (Khalabat, 2011). The National Bank of Pakistan was established in 1949 (Qayyum & Anwar, 2011). Agriculture Development Bank and Industrial Development Bank of Pakistan were the most outstanding establishments during the period of 60’s and 70’s (Ghazanfar, 2011). In 1961, both these financial institutions were established. The number of banks grew in Pakistan and reached to 14 with 3323 offices were established in Pakistan and 74 offices were in foreign countries (Shirazi, 2010).\n",
      "\n",
      "3.1 Phases of Banking in Pakistan\n",
      "\n",
      "3.1.1 Nationalization of Banks\n",
      "\n",
      "5.9 Introduction of Agriculture Credit Schemes\n",
      "\n",
      "The commercial banks of Pakistan played an important role in lending credit to the agriculture sector through different schemes. The previous schemes were limited to only production loans but after the liberalization of the banking sector, the whole agriculture sector was provided loans through different schemes.\n",
      "\n",
      "VI. GROWTH IN THE BANKING SECTOR OF PAKISTAN AND THE IMPACT ON REVENUE GENERATION 2007 TO 2012\n",
      "\n",
      "The banking sector of Pakistan relies mostly on the government policies of Pakistan. After the 2002 elections, the newly established government formulated policies which supported the growth of the banking sector. This sector in the past was in the hands of the public sector but after the new policies, competition was seen. The banking sector turned profitable after 2002. The banking sector generated revenue of $1.1 billion in 2006. The world saw the Global Financial Crisis which was difficult on all sectors of the economy. Despite all the difficulties, the banking sector of Pakistan showed stiffness and it was able to handle the pressures of the Global Financial Crisis. During the crisis, the large banks maintained a very healthy position and the smaller banks started to offer their services to niche markets so they could survive the crisis.\n",
      "\n",
      "Table 1. Financial Soundness Indicators\n",
      "\n",
      "2007 2008 2009 December 2010 March 2011 June 2011 September 2011 December 2011 March 2012 Growth Rates YoY 18.8 8.8 15.8 9.3 11.7 13.7 17.2 15.0 16.6 Loans (Net) 10.7 18.3 2.1 3.1 5.2 4.7 3.0 (0.2) 2.8 Deposits 18.4 9.4 13.5 13.9 13.5 16.3 14.9 14.5 16.5 Investments (Net) 53.1 (15.4) 59.9 22.2 27.9 38.4 51.9 42.5 39.5 Equity 35.3 3.4 17.3 5.9 5.6 8.1 14.9 12.4 12.9\n",
      "\n",
      "Source: State Bank of Pakistan\n",
      "\n",
      "www.iosrjournals.org\n",
      "\n",
      "The Banking Sector of Pakistan: The Case of Its Growth And Impact On Revenue Generation\n",
      "Question: What will be the impact of revenue generation by banks in Pakistan?\n",
      "\n",
      "Answer the question and provide additional helpful information,\n",
      "based on the pieces of information, if applicable. Be succinct.\n",
      "\n",
      "Responses should be properly formatted to be easily read.\n",
      "\u001b[0m\n",
      "\n",
      "\u001b[1m> Finished chain.\u001b[0m\n",
      "\n",
      "\u001b[1m> Finished chain.\u001b[0m\n"
     ]
    }
   ],
   "source": [
    "import time\n",
    "response = qa.invoke(\"What will be the impact of revenue generation by banks in Pakistan?\")"
   ]
  },
  {
   "cell_type": "code",
   "execution_count": 30,
   "metadata": {},
   "outputs": [
    {
     "name": "stdout",
     "output_type": "stream",
     "text": [
      "{'query': 'What will be the impact of revenue generation by banks in Pakistan?', 'result': \"**Answer:** The research aims to measure the impact of revenue generation by banks in Pakistan, but the provided information does not explicitly state the impact. However, it can be inferred that the banking sector's growth has a positive impact on revenue generation, as the sector generated revenue of $1.1 billion in 2006 and showed resilience during the Global Financial Crisis.\\n\\n**Additional Information:**\\n\\n* The banking sector of Pakistan has been growing rapidly, with the number of bank branches increasing from 25 in 1948 to 9,348 in 2010.\\n* The sector has become more competitive, with the number of commercial banks increasing from 33 in 1993 to 43 in 2001, and further to 46 banks regulated by the State Bank of Pakistan in 2012.\\n* The growth of the banking sector has been influenced by government policies, particularly after the 2002 elections, which supported the sector's growth and profitability.\", 'source_documents': [Document(page_content='www.iosrjournals.org\\n\\n46 | Page\\n\\nThe Banking Sector of Pakistan: The Case of Its Growth And Impact On Revenue Generation\\n\\nThe Pakistani banking industry encompasses nationalized commercial banks, private banks, public sector banks, foreign banks, Islamic banks, specialized banks and microfinance banks. There are some companies in Pakistan which are working as banks so the financial sector can develop along with economic growth. In 1993, 33 commercial banks were functioning out of which 19 were foreign and 14 were local banks. By the end of 2001, the number of commercial banks increased to 43, out of which 19 were foreign banks and 24 were local banks (Akhtaret al., 2010). In 2010, the number of bank branches reached 9,348 which comprised of 25 domestic private banks, five public commercial banks, four specialized banks and six foreign banks (Khalabat, 2011, para 8). At present, the State Bank of Pakistan is regulating 46 banks which comprise of 39 local banks and seven foreign banks. The local banks comprise of four specialized banks, five public sector banks, five Islamic banks, eight microfinance banks and 17 private banks (State Bank of Pakistan, 2012). This indicates that the banking sector of Pakistan is growing rapidly. This research paper will contribute towards the body of knowledge of the banking sector of Pakistan. It will provide guidelines for the banking sector and it will be helpful for the government of Pakistan to formulate economic policies. Moreover, this research will help other researchers in the field. This research paper not only examines the reasons of growth in the banking sector of Pakistan but also examines the financial soundness indicators which are the real reasons of growth in the banking sector.\\n\\nII. RESEARCH OBJECTIVES\\n\\nThe main objective of this study is to investigate the factors which contributed towards growth in the banking sector of Pakistan and how it influenced the revenue generation of the banks. The specific objectives of this research are as follows:', metadata={'source': 'data/parsed_document.md', '_id': '3e6375b44eea4407a4dd8cc0b6c132c2', '_collection_name': 'document_embeddings', 'relevance_score': 0.9980327486991882}), Document(page_content='Historical evidences are provided to study the developments in the banking sector of Pakistan.\\n\\nCurrent overview of the banking sector is provided.\\n\\nMain reasons are investigated to study the rapid growth in the banking sector of Pakistan.\\n\\nTo measure the impact of revenue generation by banks in Pakistan.\\n\\nIII. LITERATURE REVIEW\\n\\nBefore the partition of Pakistan and India in 1947, the banking in Pakistan was dominated by the British banks (Ghazanfar, 2011). Only two banks were located in Pakistan’s territory at the time of independence with total deposited amount of 880.0 million (Qayyum, 2007). Some banks of Pakistan faced liquidation and the payments were not made to the depositors (Ghazanfar, 2011). Steps were taken to handle such issues and to establish the banking industry of Pakistan. In 1948, State Bank of Pakistan was established (Qayyum, 2007). The operating domestic bank branches were only 25 out of 195 (Ghazanfar, 2011). The State Bank of Pakistan focused on promoting the banking industry so trade and commerce can be promoted in the country (Shirazi, 2010). The State Bank of Pakistan supported Habib Bank Limited, National Bank of Pakistan and Allied Bank Limited to achieve this objective (Khalabat, 2011). The National Bank of Pakistan was established in 1949 (Qayyum & Anwar, 2011). Agriculture Development Bank and Industrial Development Bank of Pakistan were the most outstanding establishments during the period of 60’s and 70’s (Ghazanfar, 2011). In 1961, both these financial institutions were established. The number of banks grew in Pakistan and reached to 14 with 3323 offices were established in Pakistan and 74 offices were in foreign countries (Shirazi, 2010).\\n\\n3.1 Phases of Banking in Pakistan\\n\\n3.1.1 Nationalization of Banks', metadata={'source': 'data/parsed_document.md', '_id': 'a710a0eb3aee4a0188eddd5d8b9624c3', '_collection_name': 'document_embeddings', 'relevance_score': 0.9968045949935913}), Document(page_content='5.9 Introduction of Agriculture Credit Schemes\\n\\nThe commercial banks of Pakistan played an important role in lending credit to the agriculture sector through different schemes. The previous schemes were limited to only production loans but after the liberalization of the banking sector, the whole agriculture sector was provided loans through different schemes.\\n\\nVI. GROWTH IN THE BANKING SECTOR OF PAKISTAN AND THE IMPACT ON REVENUE GENERATION 2007 TO 2012\\n\\nThe banking sector of Pakistan relies mostly on the government policies of Pakistan. After the 2002 elections, the newly established government formulated policies which supported the growth of the banking sector. This sector in the past was in the hands of the public sector but after the new policies, competition was seen. The banking sector turned profitable after 2002. The banking sector generated revenue of $1.1 billion in 2006. The world saw the Global Financial Crisis which was difficult on all sectors of the economy. Despite all the difficulties, the banking sector of Pakistan showed stiffness and it was able to handle the pressures of the Global Financial Crisis. During the crisis, the large banks maintained a very healthy position and the smaller banks started to offer their services to niche markets so they could survive the crisis.\\n\\nTable 1. Financial Soundness Indicators\\n\\n2007 2008 2009 December 2010 March 2011 June 2011 September 2011 December 2011 March 2012 Growth Rates YoY 18.8 8.8 15.8 9.3 11.7 13.7 17.2 15.0 16.6 Loans (Net) 10.7 18.3 2.1 3.1 5.2 4.7 3.0 (0.2) 2.8 Deposits 18.4 9.4 13.5 13.9 13.5 16.3 14.9 14.5 16.5 Investments (Net) 53.1 (15.4) 59.9 22.2 27.9 38.4 51.9 42.5 39.5 Equity 35.3 3.4 17.3 5.9 5.6 8.1 14.9 12.4 12.9\\n\\nSource: State Bank of Pakistan\\n\\nwww.iosrjournals.org\\n\\nThe Banking Sector of Pakistan: The Case of Its Growth And Impact On Revenue Generation', metadata={'source': 'data/parsed_document.md', '_id': '8122e0b767bd47968c5e0407c09105a8', '_collection_name': 'document_embeddings', 'relevance_score': 0.9956305623054504})]}\n"
     ]
    }
   ],
   "source": [
    "print(response)"
   ]
  },
  {
   "cell_type": "code",
   "execution_count": 31,
   "metadata": {},
   "outputs": [],
   "source": [
    "#Keep verbose False here\n",
    "qa = RetrievalQA.from_chain_type(\n",
    "    llm=llm,\n",
    "    chain_type=\"stuff\",\n",
    "    retriever=compression_retriever,\n",
    "    return_source_documents=True,\n",
    "    chain_type_kwargs={\"prompt\": prompt, \"verbose\": False},\n",
    ")"
   ]
  },
  {
   "cell_type": "code",
   "execution_count": 32,
   "metadata": {},
   "outputs": [
    {
     "name": "stdout",
     "output_type": "stream",
     "text": [
      "Running pairwise ranking..\n"
     ]
    }
   ],
   "source": [
    "import time\n",
    "response = qa.invoke(\"What are some historical evidence about how banking sector develop in Pakistan?\")"
   ]
  },
  {
   "cell_type": "code",
   "execution_count": 33,
   "metadata": {},
   "outputs": [
    {
     "data": {
      "text/markdown": [
       "**Historical Evidence of Banking Sector Development in Pakistan**\n",
       "\n",
       "* Before the partition of Pakistan and India in 1947, the banking sector in Pakistan was dominated by British banks.\n",
       "* At the time of independence, only two banks were located in Pakistan's territory, with a total deposited amount of 880.0 million.\n",
       "* In 1948, the State Bank of Pakistan was established to promote the banking industry and support trade and commerce in the country.\n",
       "* The National Bank of Pakistan was established in 1949.\n",
       "* In the 1960s and 1970s, Agriculture Development Bank and Industrial Development Bank of Pakistan were established.\n",
       "* By the end of 2001, the number of commercial banks increased to 43, out of which 19 were foreign banks and 24 were local banks.\n",
       "* In 2010, the number of bank branches reached 9,348, comprising of 25 domestic private banks, five public commercial banks, four specialized banks, and six foreign banks.\n",
       "* Currently, the State Bank of Pakistan regulates 46 banks, including 39 local banks and seven foreign banks.\n",
       "\n",
       "Additional helpful information:\n",
       "\n",
       "* The banking sector in Pakistan has gone through three phases: pre-nationalization, nationalization, and post-nationalization.\n",
       "* The government of Pakistan has played a significant role in promoting the banking sector, including nationalizing banks in 1974 and privatizing them in 1990."
      ],
      "text/plain": [
       "<IPython.core.display.Markdown object>"
      ]
     },
     "execution_count": 33,
     "metadata": {},
     "output_type": "execute_result"
    }
   ],
   "source": [
    "Markdown(response[\"result\"])"
   ]
  },
  {
   "cell_type": "code",
   "execution_count": 34,
   "metadata": {},
   "outputs": [
    {
     "name": "stdout",
     "output_type": "stream",
     "text": [
      "Running pairwise ranking..\n"
     ]
    },
    {
     "data": {
      "text/markdown": [
       "**Answer:** The main reason of growth in the banking sector of Pakistan is privatization, which was done through liberalization and deregulation of the sector in 1990. This led to the improvement of the management system, increase in earnings, and strengthening of the quality of assets provided by banks.\n",
       "\n",
       "**Additional helpful information:**\n",
       "\n",
       "* The government of Pakistan supported the banking sector by implementing development strategies until the 1980s.\n",
       "* The sector was nationalized in the 1980s to revive the declining economic growth.\n",
       "* Later, the government privatized the government banks and made relaxations to help the private sector open new private banks.\n",
       "* This led to the creation of a competitive environment in the banking industry of Pakistan.\n",
       "* The banking sector has shown a lot of potential and can generate a lot of revenue for the country."
      ],
      "text/plain": [
       "<IPython.core.display.Markdown object>"
      ]
     },
     "execution_count": 34,
     "metadata": {},
     "output_type": "execute_result"
    }
   ],
   "source": [
    "import time\n",
    "response = qa.invoke( \"What are the main reasons of growth in banking sector of Pkaistan?\")\n",
    "Markdown(response[\"result\"])"
   ]
  },
  {
   "cell_type": "code",
   "execution_count": 35,
   "metadata": {},
   "outputs": [
    {
     "name": "stdout",
     "output_type": "stream",
     "text": [
      "Running pairwise ranking..\n"
     ]
    },
    {
     "data": {
      "text/markdown": [
       "**Answer:** The research aims to measure the impact of revenue generation by banks in Pakistan, but the provided information does not explicitly state the impact. However, it can be inferred that the banking sector's growth has a positive impact on revenue generation, as the sector generated revenue of $1.1 billion in 2006 and showed resilience during the Global Financial Crisis.\n",
       "\n",
       "**Additional Information:**\n",
       "\n",
       "* The banking sector of Pakistan has been growing rapidly, with the number of bank branches increasing from 25 in 1948 to 9,348 in 2010.\n",
       "* The sector has become more competitive, with the number of commercial banks increasing from 33 in 1993 to 43 in 2001, and further to 46 banks regulated by the State Bank of Pakistan in 2012.\n",
       "* The growth of the banking sector has been influenced by government policies, particularly after the 2002 elections, which supported the sector's growth and profitability."
      ],
      "text/plain": [
       "<IPython.core.display.Markdown object>"
      ]
     },
     "execution_count": 35,
     "metadata": {},
     "output_type": "execute_result"
    }
   ],
   "source": [
    "import time\n",
    "response = qa.invoke( \"What will be the impact of revenue generation by banks in Pakistan?\")\n",
    "Markdown(response[\"result\"])"
   ]
  },
  {
   "cell_type": "code",
   "execution_count": 37,
   "metadata": {},
   "outputs": [
    {
     "name": "stdout",
     "output_type": "stream",
     "text": [
      "Running pairwise ranking..\n"
     ]
    },
    {
     "data": {
      "text/markdown": [
       "**Answer:** The revenue generated by the banking sector between 2007-2012 is not explicitly stated in the provided information.\n",
       "\n",
       "**Additional Information:** However, the text provides insights into the growth and impact of the banking sector on revenue generation during this period. It highlights the sector's resilience during the Global Financial Crisis and its subsequent recovery. The financial soundness indicators, such as assets, loans, deposits, investments, and equity, are discussed, but the exact revenue figures are not provided."
      ],
      "text/plain": [
       "<IPython.core.display.Markdown object>"
      ]
     },
     "execution_count": 37,
     "metadata": {},
     "output_type": "execute_result"
    }
   ],
   "source": [
    "import time\n",
    "response = qa.invoke( \"What is the revenue generated between 2007-2012 year by banking sector?\")\n",
    "Markdown(response[\"result\"])"
   ]
  }
 ],
 "metadata": {
  "kernelspec": {
   "display_name": "venv",
   "language": "python",
   "name": "python3"
  },
  "language_info": {
   "codemirror_mode": {
    "name": "ipython",
    "version": 3
   },
   "file_extension": ".py",
   "mimetype": "text/x-python",
   "name": "python",
   "nbconvert_exporter": "python",
   "pygments_lexer": "ipython3",
   "version": "3.9.21"
  }
 },
 "nbformat": 4,
 "nbformat_minor": 2
}
